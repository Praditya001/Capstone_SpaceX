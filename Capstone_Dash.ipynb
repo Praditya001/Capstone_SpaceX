{
  "cells": [
    {
      "cell_type": "code",
      "execution_count": 1,
      "id": "e472a09e-71c3-472f-b191-1513bf1fecf1",
      "metadata": {
        "scrolled": true,
        "collapsed": true,
        "colab": {
          "base_uri": "https://localhost:8080/"
        },
        "id": "e472a09e-71c3-472f-b191-1513bf1fecf1",
        "outputId": "adaf1cc3-fe1b-4a1d-c874-45e8e6544eea"
      },
      "outputs": [
        {
          "output_type": "stream",
          "name": "stdout",
          "text": [
            "Collecting dash\n",
            "  Downloading dash-2.17.1-py3-none-any.whl (7.5 MB)\n",
            "\u001b[2K     \u001b[90m━━━━━━━━━━━━━━━━━━━━━━━━━━━━━━━━━━━━━━━━\u001b[0m \u001b[32m7.5/7.5 MB\u001b[0m \u001b[31m15.5 MB/s\u001b[0m eta \u001b[36m0:00:00\u001b[0m\n",
            "\u001b[?25hRequirement already satisfied: Flask<3.1,>=1.0.4 in /usr/local/lib/python3.10/dist-packages (from dash) (2.2.5)\n",
            "Requirement already satisfied: Werkzeug<3.1 in /usr/local/lib/python3.10/dist-packages (from dash) (3.0.3)\n",
            "Requirement already satisfied: plotly>=5.0.0 in /usr/local/lib/python3.10/dist-packages (from dash) (5.15.0)\n",
            "Collecting dash-html-components==2.0.0 (from dash)\n",
            "  Downloading dash_html_components-2.0.0-py3-none-any.whl (4.1 kB)\n",
            "Collecting dash-core-components==2.0.0 (from dash)\n",
            "  Downloading dash_core_components-2.0.0-py3-none-any.whl (3.8 kB)\n",
            "Collecting dash-table==5.0.0 (from dash)\n",
            "  Downloading dash_table-5.0.0-py3-none-any.whl (3.9 kB)\n",
            "Requirement already satisfied: importlib-metadata in /usr/local/lib/python3.10/dist-packages (from dash) (7.2.0)\n",
            "Requirement already satisfied: typing-extensions>=4.1.1 in /usr/local/lib/python3.10/dist-packages (from dash) (4.12.2)\n",
            "Requirement already satisfied: requests in /usr/local/lib/python3.10/dist-packages (from dash) (2.31.0)\n",
            "Collecting retrying (from dash)\n",
            "  Downloading retrying-1.3.4-py3-none-any.whl (11 kB)\n",
            "Requirement already satisfied: nest-asyncio in /usr/local/lib/python3.10/dist-packages (from dash) (1.6.0)\n",
            "Requirement already satisfied: setuptools in /usr/local/lib/python3.10/dist-packages (from dash) (67.7.2)\n",
            "Requirement already satisfied: Jinja2>=3.0 in /usr/local/lib/python3.10/dist-packages (from Flask<3.1,>=1.0.4->dash) (3.1.4)\n",
            "Requirement already satisfied: itsdangerous>=2.0 in /usr/local/lib/python3.10/dist-packages (from Flask<3.1,>=1.0.4->dash) (2.2.0)\n",
            "Requirement already satisfied: click>=8.0 in /usr/local/lib/python3.10/dist-packages (from Flask<3.1,>=1.0.4->dash) (8.1.7)\n",
            "Requirement already satisfied: tenacity>=6.2.0 in /usr/local/lib/python3.10/dist-packages (from plotly>=5.0.0->dash) (8.4.1)\n",
            "Requirement already satisfied: packaging in /usr/local/lib/python3.10/dist-packages (from plotly>=5.0.0->dash) (24.1)\n",
            "Requirement already satisfied: MarkupSafe>=2.1.1 in /usr/local/lib/python3.10/dist-packages (from Werkzeug<3.1->dash) (2.1.5)\n",
            "Requirement already satisfied: zipp>=0.5 in /usr/local/lib/python3.10/dist-packages (from importlib-metadata->dash) (3.19.2)\n",
            "Requirement already satisfied: charset-normalizer<4,>=2 in /usr/local/lib/python3.10/dist-packages (from requests->dash) (3.3.2)\n",
            "Requirement already satisfied: idna<4,>=2.5 in /usr/local/lib/python3.10/dist-packages (from requests->dash) (3.7)\n",
            "Requirement already satisfied: urllib3<3,>=1.21.1 in /usr/local/lib/python3.10/dist-packages (from requests->dash) (2.0.7)\n",
            "Requirement already satisfied: certifi>=2017.4.17 in /usr/local/lib/python3.10/dist-packages (from requests->dash) (2024.6.2)\n",
            "Requirement already satisfied: six>=1.7.0 in /usr/local/lib/python3.10/dist-packages (from retrying->dash) (1.16.0)\n",
            "Installing collected packages: dash-table, dash-html-components, dash-core-components, retrying, dash\n",
            "Successfully installed dash-2.17.1 dash-core-components-2.0.0 dash-html-components-2.0.0 dash-table-5.0.0 retrying-1.3.4\n"
          ]
        }
      ],
      "source": [
        "%pip install dash"
      ]
    },
    {
      "cell_type": "code",
      "execution_count": 2,
      "id": "952a88e0-e421-4e64-8b15-bc90265aaea7",
      "metadata": {
        "colab": {
          "base_uri": "https://localhost:8080/"
        },
        "collapsed": true,
        "id": "952a88e0-e421-4e64-8b15-bc90265aaea7",
        "outputId": "43da62e5-4fe4-45ab-96cb-9ab2c0bc50b7"
      },
      "outputs": [
        {
          "output_type": "stream",
          "name": "stdout",
          "text": [
            "Requirement already satisfied: plotly in /usr/local/lib/python3.10/dist-packages (5.15.0)\n",
            "Requirement already satisfied: tenacity>=6.2.0 in /usr/local/lib/python3.10/dist-packages (from plotly) (8.4.1)\n",
            "Requirement already satisfied: packaging in /usr/local/lib/python3.10/dist-packages (from plotly) (24.1)\n"
          ]
        }
      ],
      "source": [
        "!pip install plotly"
      ]
    },
    {
      "cell_type": "code",
      "execution_count": 3,
      "id": "6b7873bd-3660-4e94-80cb-124ef8fccf5a",
      "metadata": {
        "colab": {
          "base_uri": "https://localhost:8080/",
          "height": 0
        },
        "collapsed": true,
        "id": "6b7873bd-3660-4e94-80cb-124ef8fccf5a",
        "outputId": "53e30ea9-681d-4abe-c763-4c29466164cd"
      },
      "outputs": [
        {
          "output_type": "stream",
          "name": "stderr",
          "text": [
            "<ipython-input-3-4606b3d8a106>:4: UserWarning: \n",
            "The dash_core_components package is deprecated. Please replace\n",
            "`import dash_core_components as dcc` with `from dash import dcc`\n",
            "  import dash_core_components as dcc\n",
            "<ipython-input-3-4606b3d8a106>:5: UserWarning: \n",
            "The dash_html_components package is deprecated. Please replace\n",
            "`import dash_html_components as html` with `from dash import html`\n",
            "  import dash_html_components as html\n"
          ]
        }
      ],
      "source": [
        "\n",
        "import pandas as pd\n",
        "import plotly.express as px\n",
        "import dash\n",
        "import dash_core_components as dcc\n",
        "import dash_html_components as html\n",
        "from dash.dependencies import Input, Output\n"
      ]
    },
    {
      "cell_type": "code",
      "execution_count": 4,
      "id": "0bf203dd-312e-4894-998a-fe9cfdbfa71b",
      "metadata": {
        "colab": {
          "base_uri": "https://localhost:8080/",
          "height": 671
        },
        "id": "0bf203dd-312e-4894-998a-fe9cfdbfa71b",
        "outputId": "974bf5a9-4004-443c-fb99-02a8e4f117b0"
      },
      "outputs": [
        {
          "output_type": "display_data",
          "data": {
            "text/plain": [
              "<IPython.core.display.Javascript object>"
            ],
            "application/javascript": [
              "(async (port, path, width, height, cache, element) => {\n",
              "    if (!google.colab.kernel.accessAllowed && !cache) {\n",
              "      return;\n",
              "    }\n",
              "    element.appendChild(document.createTextNode(''));\n",
              "    const url = await google.colab.kernel.proxyPort(port, {cache});\n",
              "    const iframe = document.createElement('iframe');\n",
              "    iframe.src = new URL(path, url).toString();\n",
              "    iframe.height = height;\n",
              "    iframe.width = width;\n",
              "    iframe.style.border = 0;\n",
              "    iframe.allow = [\n",
              "        'accelerometer',\n",
              "        'autoplay',\n",
              "        'camera',\n",
              "        'clipboard-read',\n",
              "        'clipboard-write',\n",
              "        'gyroscope',\n",
              "        'magnetometer',\n",
              "        'microphone',\n",
              "        'serial',\n",
              "        'usb',\n",
              "        'xr-spatial-tracking',\n",
              "    ].join('; ');\n",
              "    element.appendChild(iframe);\n",
              "  })(8050, \"/\", \"100%\", 650, false, window.element)"
            ]
          },
          "metadata": {}
        }
      ],
      "source": [
        "import dash\n",
        "from dash import dcc, html\n",
        "from dash.dependencies import Input, Output\n",
        "import pandas as pd\n",
        "import plotly.express as px\n",
        "\n",
        "# Load the data using pandas\n",
        "data = pd.read_csv('https://cf-courses-data.s3.us.cloud-object-storage.appdomain.cloud/IBMDeveloperSkillsNetwork-DV0101EN-SkillsNetwork/Data%20Files/historical_automobile_sales.csv')\n",
        "\n",
        "\n",
        "# Initialize the Dash app\n",
        "app = dash.Dash(__name__)\n",
        "\n",
        "# List of years\n",
        "year_list = [i for i in range(1980, 2024, 1)]\n",
        "\n",
        "# Create the layout of the app\n",
        "app.layout = html.Div([\n",
        "    html.H1(\"Automobile Statistics Dashboard\",\n",
        "            style={'textAlign': 'center', 'color': 'red'}),\n",
        "    html.Div([\n",
        "        html.Div(\n",
        "            html.Label(\"Select Statistics:\",\n",
        "                   style={ 'color': 'white','font-weight': 'bold','font': '18px Arial, Helvetica, sans-serif'}\n",
        "                   ),\n",
        "            style={'width': '60%','height':'30px','margin-left':'50px','padding':'15px'}\n",
        "\n",
        "        ),\n",
        "\n",
        "        dcc.Dropdown(\n",
        "            id='select-statistics',\n",
        "            options=[\n",
        "                {'label': 'Yearly Statistics', 'value': 'Yearly Statistics'},\n",
        "                {'label': 'Recession Period Statistics', 'value': 'Recession Period Statistics'}\n",
        "            ],\n",
        "            value='Yearly Statistics',\n",
        "            placeholder='Select Statistics',\n",
        "            style={\n",
        "    'font-weight': 'bold',\n",
        "    'font': '18px Arial, Helvetica, sans-serif'}\n",
        "        )\n",
        "    ]),\n",
        "    html.Div(dcc.Dropdown(\n",
        "            id='select-year',\n",
        "            options=[{'label': i, 'value': i} for i in year_list],\n",
        "            value=1980\n",
        "        )),\n",
        "    html.Div([\n",
        "        html.Div(id='output-container', className='output-container', style={'width': '100%','margin':'auto', 'display': 'inline-block'}),\n",
        "    ])\n",
        "])\n",
        "\n",
        "@app.callback(\n",
        "    Output(component_id='select-year', component_property='disabled'),\n",
        "    Input(component_id='select-statistics', component_property='value'))\n",
        "def update_input_container(selected_statistics):\n",
        "    if selected_statistics == 'Yearly Statistics':\n",
        "        return False\n",
        "    else:\n",
        "        return True\n",
        "\n",
        "@app.callback(\n",
        "    Output(component_id='output-container', component_property='children'),\n",
        "    [Input(component_id='select-statistics', component_property='value'),\n",
        "    Input(component_id='select-year', component_property='value')])\n",
        "def update_output_container(selected_statistics, input_year):\n",
        "    if selected_statistics == 'Recession Period Statistics':\n",
        "        recession_data = data[data['Recession'] == 1]\n",
        "\n",
        "        # Example plot: Change this according to your specific needs\n",
        "        plot1 = px.line(recession_data, x='Year', y='Automobile_Sales', title='Automobile Sales Over the Years During Recession')\n",
        "\n",
        "        return [\n",
        "            dcc.Graph(figure=plot1)\n",
        "        ]\n",
        "    elif input_year and selected_statistics == 'Yearly Statistics':\n",
        "        yearly_data = data[data['Year'] == input_year]\n",
        "\n",
        "        # Example plot: Change this according to your specific needs\n",
        "        plot2 = px.bar(yearly_data, x='Month', y='Automobile_Sales', title=f'Automobile Sales in {input_year}')\n",
        "          # Line chart\n",
        "        plot_line = px.line(yearly_data, x='Month', y='Automobile_Sales', title=f'Line Chart - Automobile Sales in {input_year}')\n",
        "\n",
        "        # Bar chart\n",
        "        plot_bar = px.bar(yearly_data, x='Month', y='Automobile_Sales', title=f'Bar Chart - Automobile Sales in {input_year}')\n",
        "\n",
        "        # Pie chart\n",
        "        plot_pie = px.pie(yearly_data, values='Automobile_Sales', names='Month', title=f'Pie Chart - Automobile Sales Distribution in {input_year}')\n",
        "\n",
        "        return html.Div([\n",
        "            dcc.Graph(figure=plot_line),\n",
        "            dcc.Graph(figure=plot_bar),\n",
        "            dcc.Graph(figure=plot_pie)\n",
        "        ])\n",
        "        return [\n",
        "            dcc.Graph(figure=plot2)\n",
        "        ]\n",
        "    else:\n",
        "        return None\n",
        "\n",
        "if __name__ == '__main__':\n",
        "    app.run_server(mode='inline')"
      ]
    },
    {
      "cell_type": "code",
      "execution_count": null,
      "id": "dc80ca0f-d2f0-4053-8d9f-728795903883",
      "metadata": {
        "id": "dc80ca0f-d2f0-4053-8d9f-728795903883"
      },
      "outputs": [],
      "source": []
    }
  ],
  "metadata": {
    "kernelspec": {
      "display_name": "Python 3 (ipykernel)",
      "language": "python",
      "name": "python3"
    },
    "language_info": {
      "codemirror_mode": {
        "name": "ipython",
        "version": 3
      },
      "file_extension": ".py",
      "mimetype": "text/x-python",
      "name": "python",
      "nbconvert_exporter": "python",
      "pygments_lexer": "ipython3",
      "version": "3.12.3"
    },
    "colab": {
      "provenance": []
    }
  },
  "nbformat": 4,
  "nbformat_minor": 5
}