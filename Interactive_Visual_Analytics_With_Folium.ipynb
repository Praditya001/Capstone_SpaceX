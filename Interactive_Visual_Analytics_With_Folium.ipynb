{
 "cells": [
  {
   "cell_type": "markdown",
   "metadata": {
    "id": "t4YOgW3Wer6T"
   },
   "source": [
    "<p style=\"text-align:center\">\n",
    "    <a href=\"https://skills.network/?utm_medium=Exinfluencer&utm_source=Exinfluencer&utm_content=000026UJ&utm_term=10006555&utm_id=NA-SkillsNetwork-Channel-SkillsNetworkCoursesIBMDS0321ENSkillsNetwork26802033-2022-01-01\" target=\"_blank\">\n",
    "    <img src=\"https://cf-courses-data.s3.us.cloud-object-storage.appdomain.cloud/assets/logos/SN_web_lightmode.png\" width=\"200\" alt=\"Skills Network Logo\"  />\n",
    "    </a>\n",
    "</p>\n"
   ]
  },
  {
   "cell_type": "markdown",
   "metadata": {
    "id": "mHDx8srWer6W"
   },
   "source": [
    "# **Launch Sites Locations Analysis with Folium**\n"
   ]
  },
  {
   "cell_type": "markdown",
   "metadata": {
    "id": "09VQE0Jber6W"
   },
   "source": [
    "Estimated time needed: **40** minutes\n"
   ]
  },
  {
   "cell_type": "markdown",
   "metadata": {
    "id": "MNG1gCLuer6X"
   },
   "source": [
    "The launch success rate may depend on many factors such as payload mass, orbit type, and so on. It may also depend on the location and proximities of a launch site, i.e., the initial position of rocket trajectories. Finding an optimal location for building a launch site certainly involves many factors and hopefully we could discover some of the factors by analyzing the existing launch site locations.\n"
   ]
  },
  {
   "cell_type": "markdown",
   "metadata": {
    "id": "dpKhHEoMer6X"
   },
   "source": [
    "In the previous exploratory data analysis labs, you have visualized the SpaceX launch dataset using `matplotlib` and `seaborn` and discovered some preliminary correlations between the launch site and success rates. In this lab, you will be performing more interactive visual analytics using `Folium`.\n"
   ]
  },
  {
   "cell_type": "markdown",
   "metadata": {
    "id": "iYGcF4aVer6Y"
   },
   "source": [
    "## Objectives\n"
   ]
  },
  {
   "cell_type": "markdown",
   "metadata": {
    "id": "5LglvlDVer6Y"
   },
   "source": [
    "This lab contains the following tasks:\n",
    "\n",
    "*   **TASK 1:** Mark all launch sites on a map\n",
    "*   **TASK 2:** Mark the success/failed launches for each site on the map\n",
    "*   **TASK 3:** Calculate the distances between a launch site to its proximities\n",
    "\n",
    "After completed the above tasks, you should be able to find some geographical patterns about launch sites.\n"
   ]
  },
  {
   "cell_type": "markdown",
   "metadata": {
    "id": "D5QWCQlRer6Z"
   },
   "source": [
    "Let's first import required Python packages for this lab:\n"
   ]
  },
  {
   "cell_type": "code",
   "execution_count": 18,
   "metadata": {
    "colab": {
     "base_uri": "https://localhost:8080/"
    },
    "id": "l3LPKhQker6Z",
    "outputId": "5cae5b9c-270d-44f1-b2b8-2eb5abe15fc4"
   },
   "outputs": [
    {
     "name": "stdout",
     "output_type": "stream",
     "text": [
      "Requirement already satisfied: folium in c:\\users\\lenovo\\appdata\\roaming\\jupyterlab-desktop\\jlab_server\\lib\\site-packages (0.8.3)\n",
      "Requirement already satisfied: branca>=0.3.0 in c:\\users\\lenovo\\appdata\\roaming\\jupyterlab-desktop\\jlab_server\\lib\\site-packages (from folium) (0.7.2)\n",
      "Requirement already satisfied: jinja2 in c:\\users\\lenovo\\appdata\\roaming\\jupyterlab-desktop\\jlab_server\\lib\\site-packages (from folium) (3.1.4)\n",
      "Requirement already satisfied: numpy in c:\\users\\lenovo\\appdata\\roaming\\jupyterlab-desktop\\jlab_server\\lib\\site-packages (from folium) (1.26.4)\n",
      "Requirement already satisfied: requests in c:\\users\\lenovo\\appdata\\roaming\\jupyterlab-desktop\\jlab_server\\lib\\site-packages (from folium) (2.32.2)\n",
      "Requirement already satisfied: six in c:\\users\\lenovo\\appdata\\roaming\\jupyterlab-desktop\\jlab_server\\lib\\site-packages (from folium) (1.16.0)\n",
      "Requirement already satisfied: MarkupSafe>=2.0 in c:\\users\\lenovo\\appdata\\roaming\\jupyterlab-desktop\\jlab_server\\lib\\site-packages (from jinja2->folium) (2.1.5)\n",
      "Requirement already satisfied: charset-normalizer<4,>=2 in c:\\users\\lenovo\\appdata\\roaming\\jupyterlab-desktop\\jlab_server\\lib\\site-packages (from requests->folium) (3.3.2)\n",
      "Requirement already satisfied: idna<4,>=2.5 in c:\\users\\lenovo\\appdata\\roaming\\jupyterlab-desktop\\jlab_server\\lib\\site-packages (from requests->folium) (3.7)\n",
      "Requirement already satisfied: urllib3<3,>=1.21.1 in c:\\users\\lenovo\\appdata\\roaming\\jupyterlab-desktop\\jlab_server\\lib\\site-packages (from requests->folium) (2.2.1)\n",
      "Requirement already satisfied: certifi>=2017.4.17 in c:\\users\\lenovo\\appdata\\roaming\\jupyterlab-desktop\\jlab_server\\lib\\site-packages (from requests->folium) (2024.2.2)\n",
      "Requirement already satisfied: wget in c:\\users\\lenovo\\appdata\\roaming\\jupyterlab-desktop\\jlab_server\\lib\\site-packages (3.2)\n"
     ]
    }
   ],
   "source": [
    "!pip3 install folium\n",
    "!pip3 install wget"
   ]
  },
  {
   "cell_type": "code",
   "execution_count": 19,
   "metadata": {
    "colab": {
     "base_uri": "https://localhost:8080/"
    },
    "id": "CaZEEE4mfqGU",
    "outputId": "3dbe7acd-6f42-4ea0-f57b-2449a030ce0a"
   },
   "outputs": [
    {
     "name": "stdout",
     "output_type": "stream",
     "text": [
      "Requirement already satisfied: folium==0.8.3 in c:\\users\\lenovo\\appdata\\roaming\\jupyterlab-desktop\\jlab_server\\lib\\site-packages (0.8.3)\n",
      "Requirement already satisfied: branca>=0.3.0 in c:\\users\\lenovo\\appdata\\roaming\\jupyterlab-desktop\\jlab_server\\lib\\site-packages (from folium==0.8.3) (0.7.2)\n",
      "Requirement already satisfied: jinja2 in c:\\users\\lenovo\\appdata\\roaming\\jupyterlab-desktop\\jlab_server\\lib\\site-packages (from folium==0.8.3) (3.1.4)\n",
      "Requirement already satisfied: numpy in c:\\users\\lenovo\\appdata\\roaming\\jupyterlab-desktop\\jlab_server\\lib\\site-packages (from folium==0.8.3) (1.26.4)\n",
      "Requirement already satisfied: requests in c:\\users\\lenovo\\appdata\\roaming\\jupyterlab-desktop\\jlab_server\\lib\\site-packages (from folium==0.8.3) (2.32.2)\n",
      "Requirement already satisfied: six in c:\\users\\lenovo\\appdata\\roaming\\jupyterlab-desktop\\jlab_server\\lib\\site-packages (from folium==0.8.3) (1.16.0)\n",
      "Requirement already satisfied: MarkupSafe>=2.0 in c:\\users\\lenovo\\appdata\\roaming\\jupyterlab-desktop\\jlab_server\\lib\\site-packages (from jinja2->folium==0.8.3) (2.1.5)\n",
      "Requirement already satisfied: charset-normalizer<4,>=2 in c:\\users\\lenovo\\appdata\\roaming\\jupyterlab-desktop\\jlab_server\\lib\\site-packages (from requests->folium==0.8.3) (3.3.2)\n",
      "Requirement already satisfied: idna<4,>=2.5 in c:\\users\\lenovo\\appdata\\roaming\\jupyterlab-desktop\\jlab_server\\lib\\site-packages (from requests->folium==0.8.3) (3.7)\n",
      "Requirement already satisfied: urllib3<3,>=1.21.1 in c:\\users\\lenovo\\appdata\\roaming\\jupyterlab-desktop\\jlab_server\\lib\\site-packages (from requests->folium==0.8.3) (2.2.1)\n",
      "Requirement already satisfied: certifi>=2017.4.17 in c:\\users\\lenovo\\appdata\\roaming\\jupyterlab-desktop\\jlab_server\\lib\\site-packages (from requests->folium==0.8.3) (2024.2.2)\n"
     ]
    }
   ],
   "source": [
    "import folium\n",
    "import wget\n",
    "import pandas as pd\n",
    "!pip install folium==0.8.3"
   ]
  },
  {
   "cell_type": "code",
   "execution_count": 20,
   "metadata": {
    "id": "8fEBE2UFer6b"
   },
   "outputs": [],
   "source": [
    "import folium\n",
    "import pandas as pd"
   ]
  },
  {
   "cell_type": "code",
   "execution_count": 21,
   "metadata": {
    "id": "iowQBRiter6b"
   },
   "outputs": [],
   "source": [
    "# Import folium MarkerCluster plugin\n",
    "from folium.plugins import MarkerCluster\n",
    "# Import folium MousePosition plugin\n",
    "from folium.plugins import MousePosition\n",
    "# Import folium DivIcon plugin\n",
    "from folium.features import DivIcon"
   ]
  },
  {
   "cell_type": "markdown",
   "metadata": {
    "id": "_603GR7ter6c"
   },
   "source": [
    "If you need to refresh your memory about folium, you may download and refer to this previous folium lab:\n"
   ]
  },
  {
   "cell_type": "markdown",
   "metadata": {
    "id": "RENmng8Oer6c"
   },
   "source": [
    "[Generating Maps with Python](https://cf-courses-data.s3.us.cloud-object-storage.appdomain.cloud/IBM-DS0321EN-SkillsNetwork/labs/module\\_3/DV0101EN-3-5-1-Generating-Maps-in-Python-py-v2.0.ipynb)\n"
   ]
  },
  {
   "cell_type": "markdown",
   "metadata": {
    "id": "arqtUPrUisJ8"
   },
   "source": [
    "First, let's try to add:\n",
    "*   We define latitude and longitude coordinates for each launch site.\n",
    "*   Create a Folium map centered around Cape Canaveral with a zoom level of 10\n",
    "\n",
    "\n",
    "*   Add markers for each launch site with a popup showing the site name.\n",
    "*   Icons are set to 'rocket' using Font Awesome for visual clarity.\n",
    "\n",
    "\n",
    "\n",
    "\n"
   ]
  },
  {
   "cell_type": "markdown",
   "metadata": {
    "id": "sxjCm8njer6d"
   },
   "source": [
    "First, let's try to add each site's location on a map using site's latitude and longitude coordinates\n"
   ]
  },
  {
   "cell_type": "markdown",
   "metadata": {
    "id": "rxaaDnijer6d"
   },
   "source": [
    "The following dataset with the name `spacex_launch_geo.csv` is an augmented dataset with latitude and longitude added for each site.\n"
   ]
  },
  {
   "cell_type": "code",
   "execution_count": 22,
   "metadata": {
    "id": "ugID_0Rjer6d"
   },
   "outputs": [],
   "source": [
    "# Download and read the `spacex_launch_geo.csv`\n",
    "# Download and read the `spacex_launch_geo.csv`\n",
    "spacex_csv_file = wget.download('https://cf-courses-data.s3.us.cloud-object-storage.appdomain.cloud/IBM-DS0321EN-SkillsNetwork/datasets/spacex_launch_geo.csv')\n",
    "spacex_df=pd.read_csv(spacex_csv_file)"
   ]
  },
  {
   "cell_type": "markdown",
   "metadata": {
    "id": "oZ2KahxCer6e"
   },
   "source": [
    "Now, you can take a look at what are the coordinates for each site.\n"
   ]
  },
  {
   "cell_type": "code",
   "execution_count": 23,
   "metadata": {
    "colab": {
     "base_uri": "https://localhost:8080/",
     "height": 175
    },
    "id": "8aT4-DImer6e",
    "outputId": "4c0032dc-d379-4696-adf8-f1ae221fbf87"
   },
   "outputs": [
    {
     "data": {
      "text/html": [
       "<div>\n",
       "<style scoped>\n",
       "    .dataframe tbody tr th:only-of-type {\n",
       "        vertical-align: middle;\n",
       "    }\n",
       "\n",
       "    .dataframe tbody tr th {\n",
       "        vertical-align: top;\n",
       "    }\n",
       "\n",
       "    .dataframe thead th {\n",
       "        text-align: right;\n",
       "    }\n",
       "</style>\n",
       "<table border=\"1\" class=\"dataframe\">\n",
       "  <thead>\n",
       "    <tr style=\"text-align: right;\">\n",
       "      <th></th>\n",
       "      <th>Launch Site</th>\n",
       "      <th>Lat</th>\n",
       "      <th>Long</th>\n",
       "    </tr>\n",
       "  </thead>\n",
       "  <tbody>\n",
       "    <tr>\n",
       "      <th>0</th>\n",
       "      <td>CCAFS LC-40</td>\n",
       "      <td>28.562302</td>\n",
       "      <td>-80.577356</td>\n",
       "    </tr>\n",
       "    <tr>\n",
       "      <th>1</th>\n",
       "      <td>CCAFS SLC-40</td>\n",
       "      <td>28.563197</td>\n",
       "      <td>-80.576820</td>\n",
       "    </tr>\n",
       "    <tr>\n",
       "      <th>2</th>\n",
       "      <td>KSC LC-39A</td>\n",
       "      <td>28.573255</td>\n",
       "      <td>-80.646895</td>\n",
       "    </tr>\n",
       "    <tr>\n",
       "      <th>3</th>\n",
       "      <td>VAFB SLC-4E</td>\n",
       "      <td>34.632834</td>\n",
       "      <td>-120.610745</td>\n",
       "    </tr>\n",
       "  </tbody>\n",
       "</table>\n",
       "</div>"
      ],
      "text/plain": [
       "    Launch Site        Lat        Long\n",
       "0   CCAFS LC-40  28.562302  -80.577356\n",
       "1  CCAFS SLC-40  28.563197  -80.576820\n",
       "2    KSC LC-39A  28.573255  -80.646895\n",
       "3   VAFB SLC-4E  34.632834 -120.610745"
      ]
     },
     "execution_count": 23,
     "metadata": {},
     "output_type": "execute_result"
    }
   ],
   "source": [
    "# Select relevant sub-columns: `Launch Site`, `Lat(Latitude)`, `Long(Longitude)`, `class`\n",
    "spacex_df = spacex_df[['Launch Site', 'Lat', 'Long', 'class']]\n",
    "launch_sites_df = spacex_df.groupby(['Launch Site'], as_index=False).first()\n",
    "launch_sites_df = launch_sites_df[['Launch Site', 'Lat', 'Long']]\n",
    "launch_sites_df"
   ]
  },
  {
   "cell_type": "markdown",
   "metadata": {
    "id": "QWeBEHO1er6e"
   },
   "source": [
    "Above coordinates are just plain numbers that can not give you any intuitive insights about where are those launch sites. If you are very good at geography, you can interpret those numbers directly in your mind. If not, that's fine too. Let's visualize those locations by pinning them on a map.\n"
   ]
  },
  {
   "cell_type": "markdown",
   "metadata": {
    "id": "jVJB_6bker6e"
   },
   "source": [
    "We first need to create a folium `Map` object, with an initial center location to be NASA Johnson Space Center at Houston, Texas.\n"
   ]
  },
  {
   "cell_type": "code",
   "execution_count": 24,
   "metadata": {
    "id": "Ee8CqXYIer6e"
   },
   "outputs": [],
   "source": [
    "# Start location is NASA Johnson Space Center\n",
    "nasa_coordinate = [29.559684888503615, -95.0830971930759]\n",
    "site_map = folium.Map(location=nasa_coordinate, zoom_start=10)"
   ]
  },
  {
   "cell_type": "markdown",
   "metadata": {
    "id": "xPOoQ5ucer6f"
   },
   "source": [
    "We could use `folium.Circle` to add a highlighted circle area with a text label on a specific coordinate. For example,\n"
   ]
  },
  {
   "cell_type": "code",
   "execution_count": 25,
   "metadata": {
    "colab": {
     "base_uri": "https://localhost:8080/",
     "height": 1000
    },
    "id": "EQDI-XdHer6f",
    "outputId": "5ffd3fe9-ddc1-4b30-9332-51a6ed120a6b"
   },
   "outputs": [
    {
     "data": {
      "text/html": [
       "<div style=\"width:100%;\"><div style=\"position:relative;width:100%;height:0;padding-bottom:60%;\"><span style=\"color:#565656\">Make this Notebook Trusted to load map: File -> Trust Notebook</span><iframe srcdoc=\"&lt;!DOCTYPE html&gt;\n",
       "&lt;html&gt;\n",
       "&lt;head&gt;\n",
       "    \n",
       "    &lt;meta http-equiv=&quot;content-type&quot; content=&quot;text/html; charset=UTF-8&quot; /&gt;\n",
       "    &lt;script&gt;L_PREFER_CANVAS=false; L_NO_TOUCH=false; L_DISABLE_3D=false;&lt;/script&gt;\n",
       "    &lt;script src=&quot;https://cdn.jsdelivr.net/npm/leaflet@1.4.0/dist/leaflet.js&quot;&gt;&lt;/script&gt;\n",
       "    &lt;script src=&quot;https://code.jquery.com/jquery-1.12.4.min.js&quot;&gt;&lt;/script&gt;\n",
       "    &lt;script src=&quot;https://maxcdn.bootstrapcdn.com/bootstrap/3.2.0/js/bootstrap.min.js&quot;&gt;&lt;/script&gt;\n",
       "    &lt;script src=&quot;https://cdnjs.cloudflare.com/ajax/libs/Leaflet.awesome-markers/2.0.2/leaflet.awesome-markers.js&quot;&gt;&lt;/script&gt;\n",
       "    &lt;link rel=&quot;stylesheet&quot; href=&quot;https://cdn.jsdelivr.net/npm/leaflet@1.4.0/dist/leaflet.css&quot;/&gt;\n",
       "    &lt;link rel=&quot;stylesheet&quot; href=&quot;https://maxcdn.bootstrapcdn.com/bootstrap/3.2.0/css/bootstrap.min.css&quot;/&gt;\n",
       "    &lt;link rel=&quot;stylesheet&quot; href=&quot;https://maxcdn.bootstrapcdn.com/bootstrap/3.2.0/css/bootstrap-theme.min.css&quot;/&gt;\n",
       "    &lt;link rel=&quot;stylesheet&quot; href=&quot;https://maxcdn.bootstrapcdn.com/font-awesome/4.6.3/css/font-awesome.min.css&quot;/&gt;\n",
       "    &lt;link rel=&quot;stylesheet&quot; href=&quot;https://cdnjs.cloudflare.com/ajax/libs/Leaflet.awesome-markers/2.0.2/leaflet.awesome-markers.css&quot;/&gt;\n",
       "    &lt;link rel=&quot;stylesheet&quot; href=&quot;https://rawcdn.githack.com/python-visualization/folium/master/folium/templates/leaflet.awesome.rotate.css&quot;/&gt;\n",
       "    &lt;style&gt;html, body {width: 100%;height: 100%;margin: 0;padding: 0;}&lt;/style&gt;\n",
       "    &lt;style&gt;#map {position:absolute;top:0;bottom:0;right:0;left:0;}&lt;/style&gt;\n",
       "    \n",
       "    &lt;meta name=&quot;viewport&quot; content=&quot;width=device-width,\n",
       "        initial-scale=1.0, maximum-scale=1.0, user-scalable=no&quot; /&gt;\n",
       "    &lt;style&gt;#map_dc9136be8b7d94a197f44abd9b116ce3 {\n",
       "        position: relative;\n",
       "        width: 100.0%;\n",
       "        height: 100.0%;\n",
       "        left: 0.0%;\n",
       "        top: 0.0%;\n",
       "        }\n",
       "    &lt;/style&gt;\n",
       "&lt;/head&gt;\n",
       "&lt;body&gt;\n",
       "    \n",
       "    \n",
       "    &lt;div class=&quot;folium-map&quot; id=&quot;map_dc9136be8b7d94a197f44abd9b116ce3&quot; &gt;&lt;/div&gt;\n",
       "&lt;/body&gt;\n",
       "&lt;script&gt;\n",
       "    \n",
       "    \n",
       "    \n",
       "        var bounds = null;\n",
       "    \n",
       "\n",
       "    var map_dc9136be8b7d94a197f44abd9b116ce3 = L.map(\n",
       "        &#x27;map_dc9136be8b7d94a197f44abd9b116ce3&#x27;, {\n",
       "        center: [29.559684888503615, -95.0830971930759],\n",
       "        zoom: 10,\n",
       "        maxBounds: bounds,\n",
       "        layers: [],\n",
       "        worldCopyJump: false,\n",
       "        crs: L.CRS.EPSG3857,\n",
       "        zoomControl: true,\n",
       "        });\n",
       "\n",
       "\n",
       "    \n",
       "    var tile_layer_4b15d214526054ac5d6eb30382fc1ddd = L.tileLayer(\n",
       "        &#x27;https://{s}.tile.openstreetmap.org/{z}/{x}/{y}.png&#x27;,\n",
       "        {\n",
       "        &quot;attribution&quot;: null,\n",
       "        &quot;detectRetina&quot;: false,\n",
       "        &quot;maxNativeZoom&quot;: 18,\n",
       "        &quot;maxZoom&quot;: 18,\n",
       "        &quot;minZoom&quot;: 0,\n",
       "        &quot;noWrap&quot;: false,\n",
       "        &quot;opacity&quot;: 1,\n",
       "        &quot;subdomains&quot;: &quot;abc&quot;,\n",
       "        &quot;tms&quot;: false\n",
       "}).addTo(map_dc9136be8b7d94a197f44abd9b116ce3);\n",
       "    \n",
       "\n",
       "            var circle_483454fc9069121cbd901adbb1fae359 = L.circle(\n",
       "                [29.559684888503615, -95.0830971930759],\n",
       "                {\n",
       "  &quot;bubblingMouseEvents&quot;: true,\n",
       "  &quot;color&quot;: &quot;#d35400&quot;,\n",
       "  &quot;dashArray&quot;: null,\n",
       "  &quot;dashOffset&quot;: null,\n",
       "  &quot;fill&quot;: true,\n",
       "  &quot;fillColor&quot;: &quot;#d35400&quot;,\n",
       "  &quot;fillOpacity&quot;: 0.2,\n",
       "  &quot;fillRule&quot;: &quot;evenodd&quot;,\n",
       "  &quot;lineCap&quot;: &quot;round&quot;,\n",
       "  &quot;lineJoin&quot;: &quot;round&quot;,\n",
       "  &quot;opacity&quot;: 1.0,\n",
       "  &quot;radius&quot;: 1000,\n",
       "  &quot;stroke&quot;: true,\n",
       "  &quot;weight&quot;: 3\n",
       "}\n",
       "                )\n",
       "                .addTo(map_dc9136be8b7d94a197f44abd9b116ce3);\n",
       "            \n",
       "    \n",
       "            var popup_70d8e2d9702022fff466ebcfa918b1b8 = L.popup({maxWidth: &#x27;100%&#x27;\n",
       "            \n",
       "            });\n",
       "\n",
       "            \n",
       "                var html_9fb2ed83433737cb6249714ce67b9515 = $(`&lt;div id=&quot;html_9fb2ed83433737cb6249714ce67b9515&quot; style=&quot;width: 100.0%; height: 100.0%;&quot;&gt;NASA Johnson Space Center&lt;/div&gt;`)[0];\n",
       "                popup_70d8e2d9702022fff466ebcfa918b1b8.setContent(html_9fb2ed83433737cb6249714ce67b9515);\n",
       "            \n",
       "\n",
       "            circle_483454fc9069121cbd901adbb1fae359.bindPopup(popup_70d8e2d9702022fff466ebcfa918b1b8)\n",
       "            ;\n",
       "\n",
       "            \n",
       "        \n",
       "    \n",
       "        var marker_0c4467bc92c983819c934b8eddd5d1bf = L.marker(\n",
       "            [29.559684888503615, -95.0830971930759],\n",
       "            {\n",
       "                icon: new L.Icon.Default(),\n",
       "                }\n",
       "            ).addTo(map_dc9136be8b7d94a197f44abd9b116ce3);\n",
       "        \n",
       "    \n",
       "\n",
       "                var div_icon_0aeb40328c12261cc457456575bce390 = L.divIcon({\n",
       "                    iconSize: [20,20],\n",
       "                    iconAnchor: [0,0],\n",
       "                    \n",
       "                    className: &#x27;empty&#x27;,\n",
       "                    html: `&lt;div style=&quot;font-size: 12; color:#d35400;&quot;&gt;&lt;b&gt;NASA JSC&lt;/b&gt;&lt;/div&gt;`,\n",
       "                    });\n",
       "                marker_0c4467bc92c983819c934b8eddd5d1bf.setIcon(div_icon_0aeb40328c12261cc457456575bce390);\n",
       "            \n",
       "&lt;/script&gt;\n",
       "&lt;/html&gt;\" style=\"position:absolute;width:100%;height:100%;left:0;top:0;border:none !important;\" allowfullscreen webkitallowfullscreen mozallowfullscreen></iframe></div></div>"
      ],
      "text/plain": [
       "<folium.folium.Map at 0x1dd67586ab0>"
      ]
     },
     "execution_count": 25,
     "metadata": {},
     "output_type": "execute_result"
    }
   ],
   "source": [
    "# Create a blue circle at NASA Johnson Space Center's coordinate with a popup label showing its name\n",
    "circle = folium.Circle(nasa_coordinate, radius=1000, color='#d35400', fill=True).add_child(folium.Popup('NASA Johnson Space Center'))\n",
    "# Create a blue circle at NASA Johnson Space Center's coordinate with a icon showing its name\n",
    "marker = folium.map.Marker(\n",
    "    nasa_coordinate,\n",
    "    # Create an icon as a text label\n",
    "    icon=DivIcon(\n",
    "        icon_size=(20,20),\n",
    "        icon_anchor=(0,0),\n",
    "        html='<div style=\"font-size: 12; color:#d35400;\"><b>%s</b></div>' % 'NASA JSC',\n",
    "        )\n",
    "    )\n",
    "site_map.add_child(circle)\n",
    "site_map.add_child(marker)"
   ]
  },
  {
   "cell_type": "markdown",
   "metadata": {
    "id": "jMsCyyHser6f"
   },
   "source": [
    "and you should find a small yellow circle near the city of Houston and you can zoom-in to see a larger circle.\n"
   ]
  },
  {
   "cell_type": "markdown",
   "metadata": {
    "id": "MAVbUNRNer6g"
   },
   "source": [
    "Now, let's add a circle for each launch site in data frame `launch_sites`\n"
   ]
  },
  {
   "cell_type": "markdown",
   "metadata": {
    "id": "efBS2pIXer6g"
   },
   "source": [
    "*TODO:*  Create and add `folium.Circle` and `folium.Marker` for each launch site on the site map\n"
   ]
  },
  {
   "cell_type": "markdown",
   "metadata": {
    "id": "hNI5vSnker6g"
   },
   "source": [
    "An example of folium.Circle:\n"
   ]
  },
  {
   "cell_type": "markdown",
   "metadata": {
    "id": "ssViIuvier6g"
   },
   "source": [
    "`folium.Circle(coordinate, radius=1000, color='#000000', fill=True).add_child(folium.Popup(...))`\n"
   ]
  },
  {
   "cell_type": "markdown",
   "metadata": {
    "id": "Vw9MMqM7er6g"
   },
   "source": [
    "An example of folium.Marker:\n"
   ]
  },
  {
   "cell_type": "markdown",
   "metadata": {
    "id": "rbA1bV88er6g"
   },
   "source": [
    "`folium.map.Marker(coordinate, icon=DivIcon(icon_size=(20,20),icon_anchor=(0,0), html='<div style=\"font-size: 12; color:#d35400;\"><b>%s</b></div>' % 'label', ))`\n"
   ]
  },
  {
   "cell_type": "code",
   "execution_count": 26,
   "metadata": {
    "id": "ajgQ9G5eer6h"
   },
   "outputs": [],
   "source": [
    "# Initial the map\n",
    "site_map = folium.Map(location=nasa_coordinate, zoom_start=5)\n",
    "# For each launch site, add a Circle object based on its coordinate (Lat, Long) values. In addition, add Launch site name as a popup label\n"
   ]
  },
  {
   "cell_type": "markdown",
   "metadata": {
    "id": "PHFJGG4uer6h"
   },
   "source": [
    "The generated map with marked launch sites should look similar to the following:\n"
   ]
  },
  {
   "cell_type": "markdown",
   "metadata": {
    "id": "5mUP0t70er6h"
   },
   "source": [
    "<center>\n",
    "    <img src=\"https://cf-courses-data.s3.us.cloud-object-storage.appdomain.cloud/IBM-DS0321EN-SkillsNetwork/labs/module_3/images/launch_site_markers.png\">\n",
    "</center>\n"
   ]
  },
  {
   "cell_type": "markdown",
   "metadata": {
    "id": "unARqh2ier6h"
   },
   "source": [
    "Now, you can explore the map by zoom-in/out the marked areas\n",
    ", and try to answer the following questions:\n",
    "\n",
    "*   Are all launch sites in proximity to the Equator line?\n",
    "*   Are all launch sites in very close proximity to the coast?\n",
    "\n",
    "Also please try to explain your findings.\n"
   ]
  },
  {
   "cell_type": "markdown",
   "metadata": {
    "id": "SR72gfkQlFk2"
   },
   "source": [
    "\n",
    "# **My Analysis:**\n",
    "\n",
    "Rocket launch sites are typically located near the equator and the coast, based on considerations of physics and safety.\n",
    "Launching near the equator leverages the higher rotational speed of the Earth, reducing fuel requirements to reach orbit. Coastal locations minimize risks to populated areas and infrastructure, reducing potential damage in case of launch failures."
   ]
  },
  {
   "cell_type": "markdown",
   "metadata": {
    "id": "cC211GQker6i"
   },
   "source": [
    "Next, let's try to enhance the map by adding the launch outcomes for each site, and see which sites have high success rates.\n",
    "Recall that data frame spacex_df has detailed launch records, and the `class` column indicates if this launch was successful or not\n"
   ]
  },
  {
   "cell_type": "code",
   "execution_count": 27,
   "metadata": {
    "colab": {
     "base_uri": "https://localhost:8080/",
     "height": 363
    },
    "id": "scriwa71er6i",
    "outputId": "ec5d46ee-d246-454c-8463-70fcf16ccefd"
   },
   "outputs": [
    {
     "data": {
      "text/html": [
       "<div>\n",
       "<style scoped>\n",
       "    .dataframe tbody tr th:only-of-type {\n",
       "        vertical-align: middle;\n",
       "    }\n",
       "\n",
       "    .dataframe tbody tr th {\n",
       "        vertical-align: top;\n",
       "    }\n",
       "\n",
       "    .dataframe thead th {\n",
       "        text-align: right;\n",
       "    }\n",
       "</style>\n",
       "<table border=\"1\" class=\"dataframe\">\n",
       "  <thead>\n",
       "    <tr style=\"text-align: right;\">\n",
       "      <th></th>\n",
       "      <th>Launch Site</th>\n",
       "      <th>Lat</th>\n",
       "      <th>Long</th>\n",
       "      <th>class</th>\n",
       "    </tr>\n",
       "  </thead>\n",
       "  <tbody>\n",
       "    <tr>\n",
       "      <th>46</th>\n",
       "      <td>KSC LC-39A</td>\n",
       "      <td>28.573255</td>\n",
       "      <td>-80.646895</td>\n",
       "      <td>1</td>\n",
       "    </tr>\n",
       "    <tr>\n",
       "      <th>47</th>\n",
       "      <td>KSC LC-39A</td>\n",
       "      <td>28.573255</td>\n",
       "      <td>-80.646895</td>\n",
       "      <td>1</td>\n",
       "    </tr>\n",
       "    <tr>\n",
       "      <th>48</th>\n",
       "      <td>KSC LC-39A</td>\n",
       "      <td>28.573255</td>\n",
       "      <td>-80.646895</td>\n",
       "      <td>1</td>\n",
       "    </tr>\n",
       "    <tr>\n",
       "      <th>49</th>\n",
       "      <td>CCAFS SLC-40</td>\n",
       "      <td>28.563197</td>\n",
       "      <td>-80.576820</td>\n",
       "      <td>1</td>\n",
       "    </tr>\n",
       "    <tr>\n",
       "      <th>50</th>\n",
       "      <td>CCAFS SLC-40</td>\n",
       "      <td>28.563197</td>\n",
       "      <td>-80.576820</td>\n",
       "      <td>1</td>\n",
       "    </tr>\n",
       "    <tr>\n",
       "      <th>51</th>\n",
       "      <td>CCAFS SLC-40</td>\n",
       "      <td>28.563197</td>\n",
       "      <td>-80.576820</td>\n",
       "      <td>0</td>\n",
       "    </tr>\n",
       "    <tr>\n",
       "      <th>52</th>\n",
       "      <td>CCAFS SLC-40</td>\n",
       "      <td>28.563197</td>\n",
       "      <td>-80.576820</td>\n",
       "      <td>0</td>\n",
       "    </tr>\n",
       "    <tr>\n",
       "      <th>53</th>\n",
       "      <td>CCAFS SLC-40</td>\n",
       "      <td>28.563197</td>\n",
       "      <td>-80.576820</td>\n",
       "      <td>0</td>\n",
       "    </tr>\n",
       "    <tr>\n",
       "      <th>54</th>\n",
       "      <td>CCAFS SLC-40</td>\n",
       "      <td>28.563197</td>\n",
       "      <td>-80.576820</td>\n",
       "      <td>1</td>\n",
       "    </tr>\n",
       "    <tr>\n",
       "      <th>55</th>\n",
       "      <td>CCAFS SLC-40</td>\n",
       "      <td>28.563197</td>\n",
       "      <td>-80.576820</td>\n",
       "      <td>0</td>\n",
       "    </tr>\n",
       "  </tbody>\n",
       "</table>\n",
       "</div>"
      ],
      "text/plain": [
       "     Launch Site        Lat       Long  class\n",
       "46    KSC LC-39A  28.573255 -80.646895      1\n",
       "47    KSC LC-39A  28.573255 -80.646895      1\n",
       "48    KSC LC-39A  28.573255 -80.646895      1\n",
       "49  CCAFS SLC-40  28.563197 -80.576820      1\n",
       "50  CCAFS SLC-40  28.563197 -80.576820      1\n",
       "51  CCAFS SLC-40  28.563197 -80.576820      0\n",
       "52  CCAFS SLC-40  28.563197 -80.576820      0\n",
       "53  CCAFS SLC-40  28.563197 -80.576820      0\n",
       "54  CCAFS SLC-40  28.563197 -80.576820      1\n",
       "55  CCAFS SLC-40  28.563197 -80.576820      0"
      ]
     },
     "execution_count": 27,
     "metadata": {},
     "output_type": "execute_result"
    }
   ],
   "source": [
    "spacex_df.tail(10)"
   ]
  },
  {
   "cell_type": "markdown",
   "metadata": {
    "id": "c1RSLw7zer6i"
   },
   "source": [
    "Next, let's create markers for all launch records.\n",
    "If a launch was successful `(class=1)`, then we use a green marker and if a launch was failed, we use a red marker `(class=0)`\n"
   ]
  },
  {
   "cell_type": "markdown",
   "metadata": {
    "id": "-RoH7r1Uer6j"
   },
   "source": [
    "Note that a launch only happens in one of the four launch sites, which means many launch records will have the exact same coordinate. Marker clusters can be a good way to simplify a map containing many markers having the same coordinate.\n"
   ]
  },
  {
   "cell_type": "markdown",
   "metadata": {
    "id": "LQBV4Figer6j"
   },
   "source": [
    "Let's first create a `MarkerCluster` object\n"
   ]
  },
  {
   "cell_type": "code",
   "execution_count": 28,
   "metadata": {
    "id": "c6C_7pjFer6j"
   },
   "outputs": [],
   "source": [
    "marker_cluster = MarkerCluster()\n"
   ]
  },
  {
   "cell_type": "markdown",
   "metadata": {
    "id": "pCi-JWMLer6j"
   },
   "source": [
    "*TODO:* Create a new column in `launch_sites` dataframe called `marker_color` to store the marker colors based on the `class` value\n"
   ]
  },
  {
   "cell_type": "code",
   "execution_count": 29,
   "metadata": {
    "colab": {
     "base_uri": "https://localhost:8080/",
     "height": 363
    },
    "id": "eAGTDPYUer6j",
    "outputId": "b1600aea-4f84-473c-d5b3-f67e2ff8e0eb"
   },
   "outputs": [
    {
     "data": {
      "text/html": [
       "<div>\n",
       "<style scoped>\n",
       "    .dataframe tbody tr th:only-of-type {\n",
       "        vertical-align: middle;\n",
       "    }\n",
       "\n",
       "    .dataframe tbody tr th {\n",
       "        vertical-align: top;\n",
       "    }\n",
       "\n",
       "    .dataframe thead th {\n",
       "        text-align: right;\n",
       "    }\n",
       "</style>\n",
       "<table border=\"1\" class=\"dataframe\">\n",
       "  <thead>\n",
       "    <tr style=\"text-align: right;\">\n",
       "      <th></th>\n",
       "      <th>Launch Site</th>\n",
       "      <th>Lat</th>\n",
       "      <th>Long</th>\n",
       "      <th>class</th>\n",
       "      <th>marker_color</th>\n",
       "    </tr>\n",
       "  </thead>\n",
       "  <tbody>\n",
       "    <tr>\n",
       "      <th>46</th>\n",
       "      <td>KSC LC-39A</td>\n",
       "      <td>28.573255</td>\n",
       "      <td>-80.646895</td>\n",
       "      <td>1</td>\n",
       "      <td>green</td>\n",
       "    </tr>\n",
       "    <tr>\n",
       "      <th>47</th>\n",
       "      <td>KSC LC-39A</td>\n",
       "      <td>28.573255</td>\n",
       "      <td>-80.646895</td>\n",
       "      <td>1</td>\n",
       "      <td>green</td>\n",
       "    </tr>\n",
       "    <tr>\n",
       "      <th>48</th>\n",
       "      <td>KSC LC-39A</td>\n",
       "      <td>28.573255</td>\n",
       "      <td>-80.646895</td>\n",
       "      <td>1</td>\n",
       "      <td>green</td>\n",
       "    </tr>\n",
       "    <tr>\n",
       "      <th>49</th>\n",
       "      <td>CCAFS SLC-40</td>\n",
       "      <td>28.563197</td>\n",
       "      <td>-80.576820</td>\n",
       "      <td>1</td>\n",
       "      <td>green</td>\n",
       "    </tr>\n",
       "    <tr>\n",
       "      <th>50</th>\n",
       "      <td>CCAFS SLC-40</td>\n",
       "      <td>28.563197</td>\n",
       "      <td>-80.576820</td>\n",
       "      <td>1</td>\n",
       "      <td>green</td>\n",
       "    </tr>\n",
       "    <tr>\n",
       "      <th>51</th>\n",
       "      <td>CCAFS SLC-40</td>\n",
       "      <td>28.563197</td>\n",
       "      <td>-80.576820</td>\n",
       "      <td>0</td>\n",
       "      <td>red</td>\n",
       "    </tr>\n",
       "    <tr>\n",
       "      <th>52</th>\n",
       "      <td>CCAFS SLC-40</td>\n",
       "      <td>28.563197</td>\n",
       "      <td>-80.576820</td>\n",
       "      <td>0</td>\n",
       "      <td>red</td>\n",
       "    </tr>\n",
       "    <tr>\n",
       "      <th>53</th>\n",
       "      <td>CCAFS SLC-40</td>\n",
       "      <td>28.563197</td>\n",
       "      <td>-80.576820</td>\n",
       "      <td>0</td>\n",
       "      <td>red</td>\n",
       "    </tr>\n",
       "    <tr>\n",
       "      <th>54</th>\n",
       "      <td>CCAFS SLC-40</td>\n",
       "      <td>28.563197</td>\n",
       "      <td>-80.576820</td>\n",
       "      <td>1</td>\n",
       "      <td>green</td>\n",
       "    </tr>\n",
       "    <tr>\n",
       "      <th>55</th>\n",
       "      <td>CCAFS SLC-40</td>\n",
       "      <td>28.563197</td>\n",
       "      <td>-80.576820</td>\n",
       "      <td>0</td>\n",
       "      <td>red</td>\n",
       "    </tr>\n",
       "  </tbody>\n",
       "</table>\n",
       "</div>"
      ],
      "text/plain": [
       "     Launch Site        Lat       Long  class marker_color\n",
       "46    KSC LC-39A  28.573255 -80.646895      1        green\n",
       "47    KSC LC-39A  28.573255 -80.646895      1        green\n",
       "48    KSC LC-39A  28.573255 -80.646895      1        green\n",
       "49  CCAFS SLC-40  28.563197 -80.576820      1        green\n",
       "50  CCAFS SLC-40  28.563197 -80.576820      1        green\n",
       "51  CCAFS SLC-40  28.563197 -80.576820      0          red\n",
       "52  CCAFS SLC-40  28.563197 -80.576820      0          red\n",
       "53  CCAFS SLC-40  28.563197 -80.576820      0          red\n",
       "54  CCAFS SLC-40  28.563197 -80.576820      1        green\n",
       "55  CCAFS SLC-40  28.563197 -80.576820      0          red"
      ]
     },
     "execution_count": 29,
     "metadata": {},
     "output_type": "execute_result"
    }
   ],
   "source": [
    "\n",
    "# Apply a function to check the value of `class` column\n",
    "# If class=1, marker_color value will be green\n",
    "# If class=0, marker_color value will be red\n",
    "# Function to assign color to launch outcome\n",
    "def assign_marker_color(launch_outcome):\n",
    "    if launch_outcome == 1:\n",
    "        return 'green'\n",
    "    else:\n",
    "        return 'red'\n",
    "\n",
    "spacex_df['marker_color'] = spacex_df['class'].apply(assign_marker_color)\n",
    "spacex_df.tail(10)"
   ]
  },
  {
   "cell_type": "markdown",
   "metadata": {
    "id": "qcdRsj77er6k"
   },
   "source": [
    "*TODO:* For each launch result in `spacex_df` data frame, add a `folium.Marker` to `marker_cluster`\n"
   ]
  },
  {
   "cell_type": "code",
   "execution_count": 30,
   "metadata": {
    "colab": {
     "base_uri": "https://localhost:8080/",
     "height": 1000
    },
    "id": "auTDdsVBer6k",
    "outputId": "21caad3a-5d44-44cc-e2f0-5169b527d767"
   },
   "outputs": [
    {
     "data": {
      "text/html": [
       "<div style=\"width:100%;\"><div style=\"position:relative;width:100%;height:0;padding-bottom:60%;\"><span style=\"color:#565656\">Make this Notebook Trusted to load map: File -> Trust Notebook</span><iframe srcdoc=\"&lt;!DOCTYPE html&gt;\n",
       "&lt;html&gt;\n",
       "&lt;head&gt;\n",
       "    \n",
       "    &lt;meta http-equiv=&quot;content-type&quot; content=&quot;text/html; charset=UTF-8&quot; /&gt;\n",
       "    &lt;script&gt;L_PREFER_CANVAS=false; L_NO_TOUCH=false; L_DISABLE_3D=false;&lt;/script&gt;\n",
       "    &lt;script src=&quot;https://cdn.jsdelivr.net/npm/leaflet@1.4.0/dist/leaflet.js&quot;&gt;&lt;/script&gt;\n",
       "    &lt;script src=&quot;https://code.jquery.com/jquery-1.12.4.min.js&quot;&gt;&lt;/script&gt;\n",
       "    &lt;script src=&quot;https://maxcdn.bootstrapcdn.com/bootstrap/3.2.0/js/bootstrap.min.js&quot;&gt;&lt;/script&gt;\n",
       "    &lt;script src=&quot;https://cdnjs.cloudflare.com/ajax/libs/Leaflet.awesome-markers/2.0.2/leaflet.awesome-markers.js&quot;&gt;&lt;/script&gt;\n",
       "    &lt;link rel=&quot;stylesheet&quot; href=&quot;https://cdn.jsdelivr.net/npm/leaflet@1.4.0/dist/leaflet.css&quot;/&gt;\n",
       "    &lt;link rel=&quot;stylesheet&quot; href=&quot;https://maxcdn.bootstrapcdn.com/bootstrap/3.2.0/css/bootstrap.min.css&quot;/&gt;\n",
       "    &lt;link rel=&quot;stylesheet&quot; href=&quot;https://maxcdn.bootstrapcdn.com/bootstrap/3.2.0/css/bootstrap-theme.min.css&quot;/&gt;\n",
       "    &lt;link rel=&quot;stylesheet&quot; href=&quot;https://maxcdn.bootstrapcdn.com/font-awesome/4.6.3/css/font-awesome.min.css&quot;/&gt;\n",
       "    &lt;link rel=&quot;stylesheet&quot; href=&quot;https://cdnjs.cloudflare.com/ajax/libs/Leaflet.awesome-markers/2.0.2/leaflet.awesome-markers.css&quot;/&gt;\n",
       "    &lt;link rel=&quot;stylesheet&quot; href=&quot;https://rawcdn.githack.com/python-visualization/folium/master/folium/templates/leaflet.awesome.rotate.css&quot;/&gt;\n",
       "    &lt;style&gt;html, body {width: 100%;height: 100%;margin: 0;padding: 0;}&lt;/style&gt;\n",
       "    &lt;style&gt;#map {position:absolute;top:0;bottom:0;right:0;left:0;}&lt;/style&gt;\n",
       "    \n",
       "    &lt;meta name=&quot;viewport&quot; content=&quot;width=device-width,\n",
       "        initial-scale=1.0, maximum-scale=1.0, user-scalable=no&quot; /&gt;\n",
       "    &lt;style&gt;#map_1630cf8fd939346b5fb57de79b53bc6d {\n",
       "        position: relative;\n",
       "        width: 100.0%;\n",
       "        height: 100.0%;\n",
       "        left: 0.0%;\n",
       "        top: 0.0%;\n",
       "        }\n",
       "    &lt;/style&gt;\n",
       "    &lt;script src=&quot;https://cdnjs.cloudflare.com/ajax/libs/leaflet.markercluster/1.1.0/leaflet.markercluster.js&quot;&gt;&lt;/script&gt;\n",
       "    &lt;link rel=&quot;stylesheet&quot; href=&quot;https://cdnjs.cloudflare.com/ajax/libs/leaflet.markercluster/1.1.0/MarkerCluster.css&quot;/&gt;\n",
       "    &lt;link rel=&quot;stylesheet&quot; href=&quot;https://cdnjs.cloudflare.com/ajax/libs/leaflet.markercluster/1.1.0/MarkerCluster.Default.css&quot;/&gt;\n",
       "&lt;/head&gt;\n",
       "&lt;body&gt;\n",
       "    \n",
       "    \n",
       "    &lt;div class=&quot;folium-map&quot; id=&quot;map_1630cf8fd939346b5fb57de79b53bc6d&quot; &gt;&lt;/div&gt;\n",
       "&lt;/body&gt;\n",
       "&lt;script&gt;\n",
       "    \n",
       "    \n",
       "    \n",
       "        var bounds = null;\n",
       "    \n",
       "\n",
       "    var map_1630cf8fd939346b5fb57de79b53bc6d = L.map(\n",
       "        &#x27;map_1630cf8fd939346b5fb57de79b53bc6d&#x27;, {\n",
       "        center: [29.559684888503615, -95.0830971930759],\n",
       "        zoom: 5,\n",
       "        maxBounds: bounds,\n",
       "        layers: [],\n",
       "        worldCopyJump: false,\n",
       "        crs: L.CRS.EPSG3857,\n",
       "        zoomControl: true,\n",
       "        });\n",
       "\n",
       "\n",
       "    \n",
       "    var tile_layer_4808e3305f956456eb43f23041bf4624 = L.tileLayer(\n",
       "        &#x27;https://{s}.tile.openstreetmap.org/{z}/{x}/{y}.png&#x27;,\n",
       "        {\n",
       "        &quot;attribution&quot;: null,\n",
       "        &quot;detectRetina&quot;: false,\n",
       "        &quot;maxNativeZoom&quot;: 18,\n",
       "        &quot;maxZoom&quot;: 18,\n",
       "        &quot;minZoom&quot;: 0,\n",
       "        &quot;noWrap&quot;: false,\n",
       "        &quot;opacity&quot;: 1,\n",
       "        &quot;subdomains&quot;: &quot;abc&quot;,\n",
       "        &quot;tms&quot;: false\n",
       "}).addTo(map_1630cf8fd939346b5fb57de79b53bc6d);\n",
       "    \n",
       "            var marker_cluster_a23d56cb5fc600b1b50e54f9e4500eb9 = L.markerClusterGroup({});\n",
       "            map_1630cf8fd939346b5fb57de79b53bc6d.addLayer(marker_cluster_a23d56cb5fc600b1b50e54f9e4500eb9);\n",
       "            \n",
       "    \n",
       "        var marker_0c4467bc92c983819c934b8eddd5d1bf = L.marker(\n",
       "            [29.559684888503615, -95.0830971930759],\n",
       "            {\n",
       "                icon: new L.Icon.Default(),\n",
       "                }\n",
       "            ).addTo(marker_cluster_a23d56cb5fc600b1b50e54f9e4500eb9);\n",
       "        \n",
       "    \n",
       "\n",
       "                var div_icon_0aeb40328c12261cc457456575bce390 = L.divIcon({\n",
       "                    iconSize: [20,20],\n",
       "                    iconAnchor: [0,0],\n",
       "                    \n",
       "                    className: &#x27;empty&#x27;,\n",
       "                    html: `&lt;div style=&quot;font-size: 12; color:#d35400;&quot;&gt;&lt;b&gt;NASA JSC&lt;/b&gt;&lt;/div&gt;`,\n",
       "                    });\n",
       "                marker_0c4467bc92c983819c934b8eddd5d1bf.setIcon(div_icon_0aeb40328c12261cc457456575bce390);\n",
       "            \n",
       "&lt;/script&gt;\n",
       "&lt;/html&gt;\" style=\"position:absolute;width:100%;height:100%;left:0;top:0;border:none !important;\" allowfullscreen webkitallowfullscreen mozallowfullscreen></iframe></div></div>"
      ],
      "text/plain": [
       "<folium.folium.Map at 0x1dd661463f0>"
      ]
     },
     "execution_count": 30,
     "metadata": {},
     "output_type": "execute_result"
    }
   ],
   "source": [
    "# Add marker_cluster to current site_map\n",
    "site_map.add_child(marker_cluster)\n",
    "\n",
    "# for each row in spacex_df data frame\n",
    "# create a Marker object with its coordinate\n",
    "# and customize the Marker's icon property to indicate if this launch was successed or failed,\n",
    "# e.g., icon=folium.Icon(color='white', icon_color=row['marker_color']\n",
    "for index, record in spacex_df.iterrows():\n",
    "    # TODO: Create and add a Marker cluster to the site map\n",
    "    # marker = folium.Marker(...)\n",
    "    marker_cluster.add_child(marker)\n",
    "\n",
    "site_map"
   ]
  },
  {
   "cell_type": "markdown",
   "metadata": {
    "id": "_RxdNiG1er6k"
   },
   "source": [
    "Your updated map may look like the following screenshots:\n"
   ]
  },
  {
   "cell_type": "markdown",
   "metadata": {
    "id": "vCzVxqqKer6k"
   },
   "source": [
    "<center>\n",
    "    <img src=\"https://cf-courses-data.s3.us.cloud-object-storage.appdomain.cloud/IBM-DS0321EN-SkillsNetwork/labs/module_3/images/launch_site_marker_cluster.png\">\n",
    "</center>\n"
   ]
  },
  {
   "cell_type": "markdown",
   "metadata": {
    "id": "BOf4tyKzer6k"
   },
   "source": [
    "<center>\n",
    "    <img src=\"https://cf-courses-data.s3.us.cloud-object-storage.appdomain.cloud/IBM-DS0321EN-SkillsNetwork/labs/module_3/images/launch_site_marker_cluster_zoomed.png\">\n",
    "</center>\n"
   ]
  },
  {
   "cell_type": "markdown",
   "metadata": {
    "id": "1XqpoEtZer6l"
   },
   "source": [
    "From the color-labeled markers in marker clusters, you should be able to easily identify which launch sites have relatively high success rates.\n"
   ]
  },
  {
   "cell_type": "code",
   "execution_count": 31,
   "metadata": {},
   "outputs": [
    {
     "name": "stdout",
     "output_type": "stream",
     "text": [
      "Requirement already satisfied: geopy in c:\\users\\lenovo\\appdata\\roaming\\jupyterlab-desktop\\jlab_server\\lib\\site-packages (2.4.1)\n",
      "Requirement already satisfied: geographiclib<3,>=1.52 in c:\\users\\lenovo\\appdata\\roaming\\jupyterlab-desktop\\jlab_server\\lib\\site-packages (from geopy) (2.0)\n"
     ]
    }
   ],
   "source": [
    "!pip install geopy\n"
   ]
  },
  {
   "cell_type": "code",
   "execution_count": 32,
   "metadata": {
    "colab": {
     "base_uri": "https://localhost:8080/"
    },
    "id": "GrH-nFPHer6l",
    "outputId": "cf518bce-4cb4-415b-b914-1e9a4ce4a729"
   },
   "outputs": [
    {
     "name": "stdout",
     "output_type": "stream",
     "text": [
      "Distance from CCAFS LC-40 to CCAFS SLC-40: 0.11 km\n",
      "Distance from CCAFS LC-40 to KSC LC-39A: 6.91 km\n",
      "Distance from CCAFS LC-40 to VAFB SLC-4E: 3833.07 km\n",
      "Distance from CCAFS SLC-40 to CCAFS LC-40: 0.11 km\n",
      "Distance from CCAFS SLC-40 to KSC LC-39A: 6.95 km\n",
      "Distance from CCAFS SLC-40 to VAFB SLC-4E: 3833.08 km\n",
      "Distance from KSC LC-39A to CCAFS LC-40: 6.91 km\n",
      "Distance from KSC LC-39A to CCAFS SLC-40: 6.95 km\n",
      "Distance from KSC LC-39A to VAFB SLC-4E: 3826.27 km\n",
      "Distance from VAFB SLC-4E to CCAFS LC-40: 3833.07 km\n",
      "Distance from VAFB SLC-4E to CCAFS SLC-40: 3833.08 km\n",
      "Distance from VAFB SLC-4E to KSC LC-39A: 3826.27 km\n"
     ]
    }
   ],
   "source": [
    "# TASK 3: Calculate the distances between a launch site to its proximities\n",
    "from geopy.distance import distance\n",
    "\n",
    "# Function to calculate distance between two points\n",
    "def calculate_distance(site1, site2):\n",
    "    return distance(site1, site2).km\n",
    "\n",
    "# Iterate through launch sites dataframe\n",
    "for index, site in launch_sites_df.iterrows():\n",
    "    site_coords = (site['Lat'], site['Long'])\n",
    "    site_name = site['Launch Site']\n",
    "\n",
    "    # Calculate distances to other launch sites\n",
    "    for index, prox_site in launch_sites_df.iterrows():\n",
    "        prox_coords = (prox_site['Lat'], prox_site['Long'])\n",
    "        prox_name = prox_site['Launch Site']\n",
    "\n",
    "        # Skip calculating distance to itself\n",
    "        if site_name != prox_name:\n",
    "            dist_km = calculate_distance(site_coords, prox_coords)\n",
    "            print(f\"Distance from {site_name} to {prox_name}: {dist_km:.2f} km\")\n"
   ]
  },
  {
   "cell_type": "markdown",
   "metadata": {
    "id": "GPa_X69fer6l"
   },
   "source": [
    "Next, we need to explore and analyze the proximities of launch sites.\n"
   ]
  },
  {
   "cell_type": "markdown",
   "metadata": {
    "id": "23zI2cxuer6l"
   },
   "source": [
    "Let's first add a `MousePosition` on the map to get coordinate for a mouse over a point on the map. As such, while you are exploring the map, you can easily find the coordinates of any points of interests (such as railway)\n"
   ]
  },
  {
   "cell_type": "code",
   "execution_count": 33,
   "metadata": {
    "colab": {
     "base_uri": "https://localhost:8080/",
     "height": 1000
    },
    "id": "0lGPYAoNer6l",
    "outputId": "8709bee0-2dc8-4f0e-a01a-425030192346"
   },
   "outputs": [
    {
     "data": {
      "text/html": [
       "<div style=\"width:100%;\"><div style=\"position:relative;width:100%;height:0;padding-bottom:60%;\"><span style=\"color:#565656\">Make this Notebook Trusted to load map: File -> Trust Notebook</span><iframe srcdoc=\"&lt;!DOCTYPE html&gt;\n",
       "&lt;html&gt;\n",
       "&lt;head&gt;\n",
       "    \n",
       "    &lt;meta http-equiv=&quot;content-type&quot; content=&quot;text/html; charset=UTF-8&quot; /&gt;\n",
       "    &lt;script&gt;L_PREFER_CANVAS=false; L_NO_TOUCH=false; L_DISABLE_3D=false;&lt;/script&gt;\n",
       "    &lt;script src=&quot;https://cdn.jsdelivr.net/npm/leaflet@1.4.0/dist/leaflet.js&quot;&gt;&lt;/script&gt;\n",
       "    &lt;script src=&quot;https://code.jquery.com/jquery-1.12.4.min.js&quot;&gt;&lt;/script&gt;\n",
       "    &lt;script src=&quot;https://maxcdn.bootstrapcdn.com/bootstrap/3.2.0/js/bootstrap.min.js&quot;&gt;&lt;/script&gt;\n",
       "    &lt;script src=&quot;https://cdnjs.cloudflare.com/ajax/libs/Leaflet.awesome-markers/2.0.2/leaflet.awesome-markers.js&quot;&gt;&lt;/script&gt;\n",
       "    &lt;link rel=&quot;stylesheet&quot; href=&quot;https://cdn.jsdelivr.net/npm/leaflet@1.4.0/dist/leaflet.css&quot;/&gt;\n",
       "    &lt;link rel=&quot;stylesheet&quot; href=&quot;https://maxcdn.bootstrapcdn.com/bootstrap/3.2.0/css/bootstrap.min.css&quot;/&gt;\n",
       "    &lt;link rel=&quot;stylesheet&quot; href=&quot;https://maxcdn.bootstrapcdn.com/bootstrap/3.2.0/css/bootstrap-theme.min.css&quot;/&gt;\n",
       "    &lt;link rel=&quot;stylesheet&quot; href=&quot;https://maxcdn.bootstrapcdn.com/font-awesome/4.6.3/css/font-awesome.min.css&quot;/&gt;\n",
       "    &lt;link rel=&quot;stylesheet&quot; href=&quot;https://cdnjs.cloudflare.com/ajax/libs/Leaflet.awesome-markers/2.0.2/leaflet.awesome-markers.css&quot;/&gt;\n",
       "    &lt;link rel=&quot;stylesheet&quot; href=&quot;https://rawcdn.githack.com/python-visualization/folium/master/folium/templates/leaflet.awesome.rotate.css&quot;/&gt;\n",
       "    &lt;style&gt;html, body {width: 100%;height: 100%;margin: 0;padding: 0;}&lt;/style&gt;\n",
       "    &lt;style&gt;#map {position:absolute;top:0;bottom:0;right:0;left:0;}&lt;/style&gt;\n",
       "    \n",
       "    &lt;meta name=&quot;viewport&quot; content=&quot;width=device-width,\n",
       "        initial-scale=1.0, maximum-scale=1.0, user-scalable=no&quot; /&gt;\n",
       "    &lt;style&gt;#map_1630cf8fd939346b5fb57de79b53bc6d {\n",
       "        position: relative;\n",
       "        width: 100.0%;\n",
       "        height: 100.0%;\n",
       "        left: 0.0%;\n",
       "        top: 0.0%;\n",
       "        }\n",
       "    &lt;/style&gt;\n",
       "    &lt;script src=&quot;https://cdnjs.cloudflare.com/ajax/libs/leaflet.markercluster/1.1.0/leaflet.markercluster.js&quot;&gt;&lt;/script&gt;\n",
       "    &lt;link rel=&quot;stylesheet&quot; href=&quot;https://cdnjs.cloudflare.com/ajax/libs/leaflet.markercluster/1.1.0/MarkerCluster.css&quot;/&gt;\n",
       "    &lt;link rel=&quot;stylesheet&quot; href=&quot;https://cdnjs.cloudflare.com/ajax/libs/leaflet.markercluster/1.1.0/MarkerCluster.Default.css&quot;/&gt;\n",
       "    &lt;script src=&quot;https://rawcdn.githack.com/ardhi/Leaflet.MousePosition/c32f1c84/src/L.Control.MousePosition.js&quot;&gt;&lt;/script&gt;\n",
       "    &lt;link rel=&quot;stylesheet&quot; href=&quot;https://rawcdn.githack.com/ardhi/Leaflet.MousePosition/c32f1c84/src/L.Control.MousePosition.css&quot;/&gt;\n",
       "&lt;/head&gt;\n",
       "&lt;body&gt;\n",
       "    \n",
       "    \n",
       "    &lt;div class=&quot;folium-map&quot; id=&quot;map_1630cf8fd939346b5fb57de79b53bc6d&quot; &gt;&lt;/div&gt;\n",
       "&lt;/body&gt;\n",
       "&lt;script&gt;\n",
       "    \n",
       "    \n",
       "    \n",
       "        var bounds = null;\n",
       "    \n",
       "\n",
       "    var map_1630cf8fd939346b5fb57de79b53bc6d = L.map(\n",
       "        &#x27;map_1630cf8fd939346b5fb57de79b53bc6d&#x27;, {\n",
       "        center: [29.559684888503615, -95.0830971930759],\n",
       "        zoom: 5,\n",
       "        maxBounds: bounds,\n",
       "        layers: [],\n",
       "        worldCopyJump: false,\n",
       "        crs: L.CRS.EPSG3857,\n",
       "        zoomControl: true,\n",
       "        });\n",
       "\n",
       "\n",
       "    \n",
       "    var tile_layer_4808e3305f956456eb43f23041bf4624 = L.tileLayer(\n",
       "        &#x27;https://{s}.tile.openstreetmap.org/{z}/{x}/{y}.png&#x27;,\n",
       "        {\n",
       "        &quot;attribution&quot;: null,\n",
       "        &quot;detectRetina&quot;: false,\n",
       "        &quot;maxNativeZoom&quot;: 18,\n",
       "        &quot;maxZoom&quot;: 18,\n",
       "        &quot;minZoom&quot;: 0,\n",
       "        &quot;noWrap&quot;: false,\n",
       "        &quot;opacity&quot;: 1,\n",
       "        &quot;subdomains&quot;: &quot;abc&quot;,\n",
       "        &quot;tms&quot;: false\n",
       "}).addTo(map_1630cf8fd939346b5fb57de79b53bc6d);\n",
       "    \n",
       "            var marker_cluster_a23d56cb5fc600b1b50e54f9e4500eb9 = L.markerClusterGroup({});\n",
       "            map_1630cf8fd939346b5fb57de79b53bc6d.addLayer(marker_cluster_a23d56cb5fc600b1b50e54f9e4500eb9);\n",
       "            \n",
       "    \n",
       "        var marker_0c4467bc92c983819c934b8eddd5d1bf = L.marker(\n",
       "            [29.559684888503615, -95.0830971930759],\n",
       "            {\n",
       "                icon: new L.Icon.Default(),\n",
       "                }\n",
       "            ).addTo(marker_cluster_a23d56cb5fc600b1b50e54f9e4500eb9);\n",
       "        \n",
       "    \n",
       "\n",
       "                var div_icon_0aeb40328c12261cc457456575bce390 = L.divIcon({\n",
       "                    iconSize: [20,20],\n",
       "                    iconAnchor: [0,0],\n",
       "                    \n",
       "                    className: &#x27;empty&#x27;,\n",
       "                    html: `&lt;div style=&quot;font-size: 12; color:#d35400;&quot;&gt;&lt;b&gt;NASA JSC&lt;/b&gt;&lt;/div&gt;`,\n",
       "                    });\n",
       "                marker_0c4467bc92c983819c934b8eddd5d1bf.setIcon(div_icon_0aeb40328c12261cc457456575bce390);\n",
       "            \n",
       "    \n",
       "\n",
       "        var mouse_position_71cf9bf3d6aec537547c01f18cd932c7 = new L.Control.MousePosition(\n",
       "            {\n",
       "  &quot;emptyString&quot;: &quot;NaN&quot;,\n",
       "  &quot;lngFirst&quot;: false,\n",
       "  &quot;numDigits&quot;: 20,\n",
       "  &quot;position&quot;: &quot;topright&quot;,\n",
       "  &quot;prefix&quot;: &quot;Lat:&quot;,\n",
       "  &quot;separator&quot;: &quot; Long: &quot;\n",
       "});\n",
       "        mouse_position_71cf9bf3d6aec537547c01f18cd932c7.options[&quot;latFormatter&quot;] = function(num) {return L.Util.formatNum(num, 5);};;\n",
       "        mouse_position_71cf9bf3d6aec537547c01f18cd932c7.options[&quot;lngFormatter&quot;] = function(num) {return L.Util.formatNum(num, 5);};;\n",
       "        map_1630cf8fd939346b5fb57de79b53bc6d.addControl(mouse_position_71cf9bf3d6aec537547c01f18cd932c7);\n",
       "\n",
       "        \n",
       "&lt;/script&gt;\n",
       "&lt;/html&gt;\" style=\"position:absolute;width:100%;height:100%;left:0;top:0;border:none !important;\" allowfullscreen webkitallowfullscreen mozallowfullscreen></iframe></div></div>"
      ],
      "text/plain": [
       "<folium.folium.Map at 0x1dd661463f0>"
      ]
     },
     "execution_count": 33,
     "metadata": {},
     "output_type": "execute_result"
    }
   ],
   "source": [
    "# Add Mouse Position to get the coordinate (Lat, Long) for a mouse over on the map\n",
    "formatter = \"function(num) {return L.Util.formatNum(num, 5);};\"\n",
    "mouse_position = MousePosition(\n",
    "    position='topright',\n",
    "    separator=' Long: ',\n",
    "    empty_string='NaN',\n",
    "    lng_first=False,\n",
    "    num_digits=20,\n",
    "    prefix='Lat:',\n",
    "    lat_formatter=formatter,\n",
    "    lng_formatter=formatter,\n",
    ")\n",
    "\n",
    "site_map.add_child(mouse_position)\n",
    "site_map"
   ]
  },
  {
   "cell_type": "markdown",
   "metadata": {
    "id": "n0d_fWkYer6m"
   },
   "source": [
    "Now zoom in to a launch site and explore its proximity to see if you can easily find any railway, highway, coastline, etc. Move your mouse to these points and mark down their coordinates (shown on the top-left) in order to the distance to the launch site.\n"
   ]
  },
  {
   "cell_type": "markdown",
   "metadata": {
    "id": "q_dzAExNer6m"
   },
   "source": [
    "Now zoom in to a launch site and explore its proximity to see if you can easily find any railway, highway, coastline, etc. Move your mouse to these points and mark down their coordinates (shown on the top-left) in order to the distance to the launch site.\n"
   ]
  },
  {
   "cell_type": "code",
   "execution_count": 34,
   "metadata": {
    "id": "Dr2pCBgrer6m"
   },
   "outputs": [],
   "source": [
    "from math import sin, cos, sqrt, atan2, radians\n",
    "\n",
    "def calculate_distance(lat1, lon1, lat2, lon2):\n",
    "    # approximate radius of earth in km\n",
    "    R = 6373.0\n",
    "\n",
    "    lat1 = radians(lat1)\n",
    "    lon1 = radians(lon1)\n",
    "    lat2 = radians(lat2)\n",
    "    lon2 = radians(lon2)\n",
    "\n",
    "    dlon = lon2 - lon1\n",
    "    dlat = lat2 - lat1\n",
    "\n",
    "    a = sin(dlat / 2)**2 + cos(lat1) * cos(lat2) * sin(dlon / 2)**2\n",
    "    c = 2 * atan2(sqrt(a), sqrt(1 - a))\n",
    "\n",
    "    distance = R * c\n",
    "    return distance"
   ]
  },
  {
   "cell_type": "markdown",
   "metadata": {
    "id": "6oLLdEzQer6m"
   },
   "source": [
    "*TODO:* Mark down a point on the closest coastline using MousePosition and calculate the distance between the coastline point and the launch site.\n"
   ]
  },
  {
   "cell_type": "code",
   "execution_count": 35,
   "metadata": {
    "colab": {
     "base_uri": "https://localhost:8080/",
     "height": 1000
    },
    "id": "Q-c6HRtPer6m",
    "outputId": "c41fbb21-678e-4ab2-9c36-805243597d47"
   },
   "outputs": [
    {
     "data": {
      "text/html": [
       "<div style=\"width:100%;\"><div style=\"position:relative;width:100%;height:0;padding-bottom:60%;\"><span style=\"color:#565656\">Make this Notebook Trusted to load map: File -> Trust Notebook</span><iframe srcdoc=\"&lt;!DOCTYPE html&gt;\n",
       "&lt;html&gt;\n",
       "&lt;head&gt;\n",
       "    \n",
       "    &lt;meta http-equiv=&quot;content-type&quot; content=&quot;text/html; charset=UTF-8&quot; /&gt;\n",
       "    &lt;script&gt;L_PREFER_CANVAS=false; L_NO_TOUCH=false; L_DISABLE_3D=false;&lt;/script&gt;\n",
       "    &lt;script src=&quot;https://cdn.jsdelivr.net/npm/leaflet@1.4.0/dist/leaflet.js&quot;&gt;&lt;/script&gt;\n",
       "    &lt;script src=&quot;https://code.jquery.com/jquery-1.12.4.min.js&quot;&gt;&lt;/script&gt;\n",
       "    &lt;script src=&quot;https://maxcdn.bootstrapcdn.com/bootstrap/3.2.0/js/bootstrap.min.js&quot;&gt;&lt;/script&gt;\n",
       "    &lt;script src=&quot;https://cdnjs.cloudflare.com/ajax/libs/Leaflet.awesome-markers/2.0.2/leaflet.awesome-markers.js&quot;&gt;&lt;/script&gt;\n",
       "    &lt;link rel=&quot;stylesheet&quot; href=&quot;https://cdn.jsdelivr.net/npm/leaflet@1.4.0/dist/leaflet.css&quot;/&gt;\n",
       "    &lt;link rel=&quot;stylesheet&quot; href=&quot;https://maxcdn.bootstrapcdn.com/bootstrap/3.2.0/css/bootstrap.min.css&quot;/&gt;\n",
       "    &lt;link rel=&quot;stylesheet&quot; href=&quot;https://maxcdn.bootstrapcdn.com/bootstrap/3.2.0/css/bootstrap-theme.min.css&quot;/&gt;\n",
       "    &lt;link rel=&quot;stylesheet&quot; href=&quot;https://maxcdn.bootstrapcdn.com/font-awesome/4.6.3/css/font-awesome.min.css&quot;/&gt;\n",
       "    &lt;link rel=&quot;stylesheet&quot; href=&quot;https://cdnjs.cloudflare.com/ajax/libs/Leaflet.awesome-markers/2.0.2/leaflet.awesome-markers.css&quot;/&gt;\n",
       "    &lt;link rel=&quot;stylesheet&quot; href=&quot;https://rawcdn.githack.com/python-visualization/folium/master/folium/templates/leaflet.awesome.rotate.css&quot;/&gt;\n",
       "    &lt;style&gt;html, body {width: 100%;height: 100%;margin: 0;padding: 0;}&lt;/style&gt;\n",
       "    &lt;style&gt;#map {position:absolute;top:0;bottom:0;right:0;left:0;}&lt;/style&gt;\n",
       "    \n",
       "    &lt;meta name=&quot;viewport&quot; content=&quot;width=device-width,\n",
       "        initial-scale=1.0, maximum-scale=1.0, user-scalable=no&quot; /&gt;\n",
       "    &lt;style&gt;#map_1630cf8fd939346b5fb57de79b53bc6d {\n",
       "        position: relative;\n",
       "        width: 100.0%;\n",
       "        height: 100.0%;\n",
       "        left: 0.0%;\n",
       "        top: 0.0%;\n",
       "        }\n",
       "    &lt;/style&gt;\n",
       "    &lt;script src=&quot;https://cdnjs.cloudflare.com/ajax/libs/leaflet.markercluster/1.1.0/leaflet.markercluster.js&quot;&gt;&lt;/script&gt;\n",
       "    &lt;link rel=&quot;stylesheet&quot; href=&quot;https://cdnjs.cloudflare.com/ajax/libs/leaflet.markercluster/1.1.0/MarkerCluster.css&quot;/&gt;\n",
       "    &lt;link rel=&quot;stylesheet&quot; href=&quot;https://cdnjs.cloudflare.com/ajax/libs/leaflet.markercluster/1.1.0/MarkerCluster.Default.css&quot;/&gt;\n",
       "    &lt;script src=&quot;https://rawcdn.githack.com/ardhi/Leaflet.MousePosition/c32f1c84/src/L.Control.MousePosition.js&quot;&gt;&lt;/script&gt;\n",
       "    &lt;link rel=&quot;stylesheet&quot; href=&quot;https://rawcdn.githack.com/ardhi/Leaflet.MousePosition/c32f1c84/src/L.Control.MousePosition.css&quot;/&gt;\n",
       "    &lt;script src=&quot;https://rawcdn.githack.com/ardhi/Leaflet.MousePosition/c32f1c84/src/L.Control.MousePosition.js&quot;&gt;&lt;/script&gt;\n",
       "    &lt;link rel=&quot;stylesheet&quot; href=&quot;https://rawcdn.githack.com/ardhi/Leaflet.MousePosition/c32f1c84/src/L.Control.MousePosition.css&quot;/&gt;\n",
       "    &lt;script src=&quot;https://rawcdn.githack.com/ardhi/Leaflet.MousePosition/c32f1c84/src/L.Control.MousePosition.js&quot;&gt;&lt;/script&gt;\n",
       "    &lt;link rel=&quot;stylesheet&quot; href=&quot;https://rawcdn.githack.com/ardhi/Leaflet.MousePosition/c32f1c84/src/L.Control.MousePosition.css&quot;/&gt;\n",
       "&lt;/head&gt;\n",
       "&lt;body&gt;\n",
       "    \n",
       "    \n",
       "    &lt;div class=&quot;folium-map&quot; id=&quot;map_1630cf8fd939346b5fb57de79b53bc6d&quot; &gt;&lt;/div&gt;\n",
       "&lt;/body&gt;\n",
       "&lt;script&gt;\n",
       "    \n",
       "    \n",
       "    \n",
       "        var bounds = null;\n",
       "    \n",
       "\n",
       "    var map_1630cf8fd939346b5fb57de79b53bc6d = L.map(\n",
       "        &#x27;map_1630cf8fd939346b5fb57de79b53bc6d&#x27;, {\n",
       "        center: [29.559684888503615, -95.0830971930759],\n",
       "        zoom: 5,\n",
       "        maxBounds: bounds,\n",
       "        layers: [],\n",
       "        worldCopyJump: false,\n",
       "        crs: L.CRS.EPSG3857,\n",
       "        zoomControl: true,\n",
       "        });\n",
       "\n",
       "\n",
       "    \n",
       "    var tile_layer_4808e3305f956456eb43f23041bf4624 = L.tileLayer(\n",
       "        &#x27;https://{s}.tile.openstreetmap.org/{z}/{x}/{y}.png&#x27;,\n",
       "        {\n",
       "        &quot;attribution&quot;: null,\n",
       "        &quot;detectRetina&quot;: false,\n",
       "        &quot;maxNativeZoom&quot;: 18,\n",
       "        &quot;maxZoom&quot;: 18,\n",
       "        &quot;minZoom&quot;: 0,\n",
       "        &quot;noWrap&quot;: false,\n",
       "        &quot;opacity&quot;: 1,\n",
       "        &quot;subdomains&quot;: &quot;abc&quot;,\n",
       "        &quot;tms&quot;: false\n",
       "}).addTo(map_1630cf8fd939346b5fb57de79b53bc6d);\n",
       "    \n",
       "            var marker_cluster_a23d56cb5fc600b1b50e54f9e4500eb9 = L.markerClusterGroup({});\n",
       "            map_1630cf8fd939346b5fb57de79b53bc6d.addLayer(marker_cluster_a23d56cb5fc600b1b50e54f9e4500eb9);\n",
       "            \n",
       "    \n",
       "        var marker_0c4467bc92c983819c934b8eddd5d1bf = L.marker(\n",
       "            [29.559684888503615, -95.0830971930759],\n",
       "            {\n",
       "                icon: new L.Icon.Default(),\n",
       "                }\n",
       "            ).addTo(marker_cluster_a23d56cb5fc600b1b50e54f9e4500eb9);\n",
       "        \n",
       "    \n",
       "\n",
       "                var div_icon_0aeb40328c12261cc457456575bce390 = L.divIcon({\n",
       "                    iconSize: [20,20],\n",
       "                    iconAnchor: [0,0],\n",
       "                    \n",
       "                    className: &#x27;empty&#x27;,\n",
       "                    html: `&lt;div style=&quot;font-size: 12; color:#d35400;&quot;&gt;&lt;b&gt;NASA JSC&lt;/b&gt;&lt;/div&gt;`,\n",
       "                    });\n",
       "                marker_0c4467bc92c983819c934b8eddd5d1bf.setIcon(div_icon_0aeb40328c12261cc457456575bce390);\n",
       "            \n",
       "    \n",
       "\n",
       "        var mouse_position_71cf9bf3d6aec537547c01f18cd932c7 = new L.Control.MousePosition(\n",
       "            {\n",
       "  &quot;emptyString&quot;: &quot;NaN&quot;,\n",
       "  &quot;lngFirst&quot;: false,\n",
       "  &quot;numDigits&quot;: 20,\n",
       "  &quot;position&quot;: &quot;topright&quot;,\n",
       "  &quot;prefix&quot;: &quot;Lat:&quot;,\n",
       "  &quot;separator&quot;: &quot; Long: &quot;\n",
       "});\n",
       "        mouse_position_71cf9bf3d6aec537547c01f18cd932c7.options[&quot;latFormatter&quot;] = function(num) {return L.Util.formatNum(num, 5);};;\n",
       "        mouse_position_71cf9bf3d6aec537547c01f18cd932c7.options[&quot;lngFormatter&quot;] = function(num) {return L.Util.formatNum(num, 5);};;\n",
       "        map_1630cf8fd939346b5fb57de79b53bc6d.addControl(mouse_position_71cf9bf3d6aec537547c01f18cd932c7);\n",
       "\n",
       "        \n",
       "    \n",
       "\n",
       "        var mouse_position_477b3459012b882324d125f5a2978f60 = new L.Control.MousePosition(\n",
       "            {\n",
       "  &quot;emptyString&quot;: &quot;NaN&quot;,\n",
       "  &quot;lngFirst&quot;: false,\n",
       "  &quot;numDigits&quot;: 20,\n",
       "  &quot;position&quot;: &quot;topright&quot;,\n",
       "  &quot;prefix&quot;: &quot;Lat:&quot;,\n",
       "  &quot;separator&quot;: &quot; Long: &quot;\n",
       "});\n",
       "        mouse_position_477b3459012b882324d125f5a2978f60.options[&quot;latFormatter&quot;] = function(num) {return L.Util.formatNum(num, 5);};;\n",
       "        mouse_position_477b3459012b882324d125f5a2978f60.options[&quot;lngFormatter&quot;] = function(num) {return L.Util.formatNum(num, 5);};;\n",
       "        map_1630cf8fd939346b5fb57de79b53bc6d.addControl(mouse_position_477b3459012b882324d125f5a2978f60);\n",
       "\n",
       "        \n",
       "&lt;/script&gt;\n",
       "&lt;/html&gt;\" style=\"position:absolute;width:100%;height:100%;left:0;top:0;border:none !important;\" allowfullscreen webkitallowfullscreen mozallowfullscreen></iframe></div></div>"
      ],
      "text/plain": [
       "<folium.folium.Map at 0x1dd661463f0>"
      ]
     },
     "execution_count": 35,
     "metadata": {},
     "output_type": "execute_result"
    }
   ],
   "source": [
    "# find coordinate of the closet coastline\n",
    "# e.g.,: Lat: 28.56367  Lon: -80.57163\n",
    "# distance_coastline = calculate_distance(launch_site_lat, launch_site_lon, coastline_lat, coastline_lon)\n",
    "from folium.plugins import MousePosition\n",
    "\n",
    "# Define a formatter for coordinates\n",
    "formatter = \"function(num) {return L.Util.formatNum(num, 5);};\"\n",
    "\n",
    "# Create MousePosition control\n",
    "mouse_position = MousePosition(\n",
    "    position='topright',\n",
    "    separator=' Long: ',\n",
    "    empty_string='NaN',\n",
    "    lng_first=False,\n",
    "    num_digits=20,\n",
    "    prefix='Lat:',\n",
    "    lat_formatter=formatter,\n",
    "    lng_formatter=formatter,\n",
    ")\n",
    "\n",
    "# Add MousePosition control to the map\n",
    "site_map.add_child(mouse_position)\n",
    "\n"
   ]
  },
  {
   "cell_type": "code",
   "execution_count": 36,
   "metadata": {
    "colab": {
     "base_uri": "https://localhost:8080/"
    },
    "id": "M1NlD1Efpsy2",
    "outputId": "33483583-50a5-4d77-f665-f4cc0cd941e2"
   },
   "outputs": [
    {
     "name": "stdout",
     "output_type": "stream",
     "text": [
      "Distance to closest coastline: 7.43 km\n"
     ]
    }
   ],
   "source": [
    "from math import radians, sin, cos, sqrt, atan2\n",
    "\n",
    "def calculate_distance(lat1, lon1, lat2, lon2):\n",
    "    \"\"\"Calculate the Haversine distance between two points given their coordinates in degrees.\"\"\"\n",
    "    # Convert latitude and longitude from degrees to radians\n",
    "    lat1, lon1, lat2, lon2 = map(radians, [lat1, lon1, lat2, lon2])\n",
    "\n",
    "    # Haversine formula\n",
    "    dlon = lon2 - lon1\n",
    "    dlat = lat2 - lat1\n",
    "    a = sin(dlat / 2)**2 + cos(lat1) * cos(lat2) * sin(dlon / 2)**2\n",
    "    c = 2 * atan2(sqrt(a), sqrt(1 - a))\n",
    "    # Earth radius in kilometers (change this value if you need the distance in a different unit)\n",
    "    radius = 6371.0\n",
    "    distance = radius * c\n",
    "\n",
    "    return distance\n",
    "\n",
    "# Example usage:\n",
    "launch_site_lat = 28.573255\n",
    "launch_site_lon = -80.646895\n",
    "coastline_lat = 28.56367\n",
    "coastline_lon = -80.57163\n",
    "\n",
    "distance_coastline = calculate_distance(launch_site_lat, launch_site_lon, coastline_lat, coastline_lon)\n",
    "print(f\"Distance to closest coastline: {distance_coastline:.2f} km\")\n"
   ]
  },
  {
   "cell_type": "code",
   "execution_count": 37,
   "metadata": {
    "colab": {
     "base_uri": "https://localhost:8080/",
     "height": 1000
    },
    "id": "m34b1Mnyer6n",
    "outputId": "dd66e35b-8e50-47a3-ffe6-c94ba0a5fb15"
   },
   "outputs": [
    {
     "data": {
      "text/html": [
       "<div style=\"width:100%;\"><div style=\"position:relative;width:100%;height:0;padding-bottom:60%;\"><span style=\"color:#565656\">Make this Notebook Trusted to load map: File -> Trust Notebook</span><iframe srcdoc=\"&lt;!DOCTYPE html&gt;\n",
       "&lt;html&gt;\n",
       "&lt;head&gt;\n",
       "    \n",
       "    &lt;meta http-equiv=&quot;content-type&quot; content=&quot;text/html; charset=UTF-8&quot; /&gt;\n",
       "    &lt;script&gt;L_PREFER_CANVAS=false; L_NO_TOUCH=false; L_DISABLE_3D=false;&lt;/script&gt;\n",
       "    &lt;script src=&quot;https://cdn.jsdelivr.net/npm/leaflet@1.4.0/dist/leaflet.js&quot;&gt;&lt;/script&gt;\n",
       "    &lt;script src=&quot;https://code.jquery.com/jquery-1.12.4.min.js&quot;&gt;&lt;/script&gt;\n",
       "    &lt;script src=&quot;https://maxcdn.bootstrapcdn.com/bootstrap/3.2.0/js/bootstrap.min.js&quot;&gt;&lt;/script&gt;\n",
       "    &lt;script src=&quot;https://cdnjs.cloudflare.com/ajax/libs/Leaflet.awesome-markers/2.0.2/leaflet.awesome-markers.js&quot;&gt;&lt;/script&gt;\n",
       "    &lt;link rel=&quot;stylesheet&quot; href=&quot;https://cdn.jsdelivr.net/npm/leaflet@1.4.0/dist/leaflet.css&quot;/&gt;\n",
       "    &lt;link rel=&quot;stylesheet&quot; href=&quot;https://maxcdn.bootstrapcdn.com/bootstrap/3.2.0/css/bootstrap.min.css&quot;/&gt;\n",
       "    &lt;link rel=&quot;stylesheet&quot; href=&quot;https://maxcdn.bootstrapcdn.com/bootstrap/3.2.0/css/bootstrap-theme.min.css&quot;/&gt;\n",
       "    &lt;link rel=&quot;stylesheet&quot; href=&quot;https://maxcdn.bootstrapcdn.com/font-awesome/4.6.3/css/font-awesome.min.css&quot;/&gt;\n",
       "    &lt;link rel=&quot;stylesheet&quot; href=&quot;https://cdnjs.cloudflare.com/ajax/libs/Leaflet.awesome-markers/2.0.2/leaflet.awesome-markers.css&quot;/&gt;\n",
       "    &lt;link rel=&quot;stylesheet&quot; href=&quot;https://rawcdn.githack.com/python-visualization/folium/master/folium/templates/leaflet.awesome.rotate.css&quot;/&gt;\n",
       "    &lt;style&gt;html, body {width: 100%;height: 100%;margin: 0;padding: 0;}&lt;/style&gt;\n",
       "    &lt;style&gt;#map {position:absolute;top:0;bottom:0;right:0;left:0;}&lt;/style&gt;\n",
       "    \n",
       "    &lt;meta name=&quot;viewport&quot; content=&quot;width=device-width,\n",
       "        initial-scale=1.0, maximum-scale=1.0, user-scalable=no&quot; /&gt;\n",
       "    &lt;style&gt;#map_1630cf8fd939346b5fb57de79b53bc6d {\n",
       "        position: relative;\n",
       "        width: 100.0%;\n",
       "        height: 100.0%;\n",
       "        left: 0.0%;\n",
       "        top: 0.0%;\n",
       "        }\n",
       "    &lt;/style&gt;\n",
       "    &lt;script src=&quot;https://cdnjs.cloudflare.com/ajax/libs/leaflet.markercluster/1.1.0/leaflet.markercluster.js&quot;&gt;&lt;/script&gt;\n",
       "    &lt;link rel=&quot;stylesheet&quot; href=&quot;https://cdnjs.cloudflare.com/ajax/libs/leaflet.markercluster/1.1.0/MarkerCluster.css&quot;/&gt;\n",
       "    &lt;link rel=&quot;stylesheet&quot; href=&quot;https://cdnjs.cloudflare.com/ajax/libs/leaflet.markercluster/1.1.0/MarkerCluster.Default.css&quot;/&gt;\n",
       "    &lt;script src=&quot;https://rawcdn.githack.com/ardhi/Leaflet.MousePosition/c32f1c84/src/L.Control.MousePosition.js&quot;&gt;&lt;/script&gt;\n",
       "    &lt;link rel=&quot;stylesheet&quot; href=&quot;https://rawcdn.githack.com/ardhi/Leaflet.MousePosition/c32f1c84/src/L.Control.MousePosition.css&quot;/&gt;\n",
       "    &lt;script src=&quot;https://rawcdn.githack.com/ardhi/Leaflet.MousePosition/c32f1c84/src/L.Control.MousePosition.js&quot;&gt;&lt;/script&gt;\n",
       "    &lt;link rel=&quot;stylesheet&quot; href=&quot;https://rawcdn.githack.com/ardhi/Leaflet.MousePosition/c32f1c84/src/L.Control.MousePosition.css&quot;/&gt;\n",
       "    &lt;script src=&quot;https://rawcdn.githack.com/ardhi/Leaflet.MousePosition/c32f1c84/src/L.Control.MousePosition.js&quot;&gt;&lt;/script&gt;\n",
       "    &lt;link rel=&quot;stylesheet&quot; href=&quot;https://rawcdn.githack.com/ardhi/Leaflet.MousePosition/c32f1c84/src/L.Control.MousePosition.css&quot;/&gt;\n",
       "    &lt;script src=&quot;https://rawcdn.githack.com/ardhi/Leaflet.MousePosition/c32f1c84/src/L.Control.MousePosition.js&quot;&gt;&lt;/script&gt;\n",
       "    &lt;link rel=&quot;stylesheet&quot; href=&quot;https://rawcdn.githack.com/ardhi/Leaflet.MousePosition/c32f1c84/src/L.Control.MousePosition.css&quot;/&gt;\n",
       "    &lt;script src=&quot;https://rawcdn.githack.com/ardhi/Leaflet.MousePosition/c32f1c84/src/L.Control.MousePosition.js&quot;&gt;&lt;/script&gt;\n",
       "    &lt;link rel=&quot;stylesheet&quot; href=&quot;https://rawcdn.githack.com/ardhi/Leaflet.MousePosition/c32f1c84/src/L.Control.MousePosition.css&quot;/&gt;\n",
       "&lt;/head&gt;\n",
       "&lt;body&gt;\n",
       "    \n",
       "    \n",
       "    &lt;div class=&quot;folium-map&quot; id=&quot;map_1630cf8fd939346b5fb57de79b53bc6d&quot; &gt;&lt;/div&gt;\n",
       "&lt;/body&gt;\n",
       "&lt;script&gt;\n",
       "    \n",
       "    \n",
       "    \n",
       "        var bounds = null;\n",
       "    \n",
       "\n",
       "    var map_1630cf8fd939346b5fb57de79b53bc6d = L.map(\n",
       "        &#x27;map_1630cf8fd939346b5fb57de79b53bc6d&#x27;, {\n",
       "        center: [29.559684888503615, -95.0830971930759],\n",
       "        zoom: 5,\n",
       "        maxBounds: bounds,\n",
       "        layers: [],\n",
       "        worldCopyJump: false,\n",
       "        crs: L.CRS.EPSG3857,\n",
       "        zoomControl: true,\n",
       "        });\n",
       "\n",
       "\n",
       "    \n",
       "    var tile_layer_4808e3305f956456eb43f23041bf4624 = L.tileLayer(\n",
       "        &#x27;https://{s}.tile.openstreetmap.org/{z}/{x}/{y}.png&#x27;,\n",
       "        {\n",
       "        &quot;attribution&quot;: null,\n",
       "        &quot;detectRetina&quot;: false,\n",
       "        &quot;maxNativeZoom&quot;: 18,\n",
       "        &quot;maxZoom&quot;: 18,\n",
       "        &quot;minZoom&quot;: 0,\n",
       "        &quot;noWrap&quot;: false,\n",
       "        &quot;opacity&quot;: 1,\n",
       "        &quot;subdomains&quot;: &quot;abc&quot;,\n",
       "        &quot;tms&quot;: false\n",
       "}).addTo(map_1630cf8fd939346b5fb57de79b53bc6d);\n",
       "    \n",
       "            var marker_cluster_a23d56cb5fc600b1b50e54f9e4500eb9 = L.markerClusterGroup({});\n",
       "            map_1630cf8fd939346b5fb57de79b53bc6d.addLayer(marker_cluster_a23d56cb5fc600b1b50e54f9e4500eb9);\n",
       "            \n",
       "    \n",
       "        var marker_0c4467bc92c983819c934b8eddd5d1bf = L.marker(\n",
       "            [29.559684888503615, -95.0830971930759],\n",
       "            {\n",
       "                icon: new L.Icon.Default(),\n",
       "                }\n",
       "            ).addTo(marker_cluster_a23d56cb5fc600b1b50e54f9e4500eb9);\n",
       "        \n",
       "    \n",
       "\n",
       "                var div_icon_0aeb40328c12261cc457456575bce390 = L.divIcon({\n",
       "                    iconSize: [20,20],\n",
       "                    iconAnchor: [0,0],\n",
       "                    \n",
       "                    className: &#x27;empty&#x27;,\n",
       "                    html: `&lt;div style=&quot;font-size: 12; color:#d35400;&quot;&gt;&lt;b&gt;NASA JSC&lt;/b&gt;&lt;/div&gt;`,\n",
       "                    });\n",
       "                marker_0c4467bc92c983819c934b8eddd5d1bf.setIcon(div_icon_0aeb40328c12261cc457456575bce390);\n",
       "            \n",
       "    \n",
       "\n",
       "        var mouse_position_71cf9bf3d6aec537547c01f18cd932c7 = new L.Control.MousePosition(\n",
       "            {\n",
       "  &quot;emptyString&quot;: &quot;NaN&quot;,\n",
       "  &quot;lngFirst&quot;: false,\n",
       "  &quot;numDigits&quot;: 20,\n",
       "  &quot;position&quot;: &quot;topright&quot;,\n",
       "  &quot;prefix&quot;: &quot;Lat:&quot;,\n",
       "  &quot;separator&quot;: &quot; Long: &quot;\n",
       "});\n",
       "        mouse_position_71cf9bf3d6aec537547c01f18cd932c7.options[&quot;latFormatter&quot;] = function(num) {return L.Util.formatNum(num, 5);};;\n",
       "        mouse_position_71cf9bf3d6aec537547c01f18cd932c7.options[&quot;lngFormatter&quot;] = function(num) {return L.Util.formatNum(num, 5);};;\n",
       "        map_1630cf8fd939346b5fb57de79b53bc6d.addControl(mouse_position_71cf9bf3d6aec537547c01f18cd932c7);\n",
       "\n",
       "        \n",
       "    \n",
       "\n",
       "        var mouse_position_477b3459012b882324d125f5a2978f60 = new L.Control.MousePosition(\n",
       "            {\n",
       "  &quot;emptyString&quot;: &quot;NaN&quot;,\n",
       "  &quot;lngFirst&quot;: false,\n",
       "  &quot;numDigits&quot;: 20,\n",
       "  &quot;position&quot;: &quot;topright&quot;,\n",
       "  &quot;prefix&quot;: &quot;Lat:&quot;,\n",
       "  &quot;separator&quot;: &quot; Long: &quot;\n",
       "});\n",
       "        mouse_position_477b3459012b882324d125f5a2978f60.options[&quot;latFormatter&quot;] = function(num) {return L.Util.formatNum(num, 5);};;\n",
       "        mouse_position_477b3459012b882324d125f5a2978f60.options[&quot;lngFormatter&quot;] = function(num) {return L.Util.formatNum(num, 5);};;\n",
       "        map_1630cf8fd939346b5fb57de79b53bc6d.addControl(mouse_position_477b3459012b882324d125f5a2978f60);\n",
       "\n",
       "        \n",
       "    \n",
       "        var marker_9d00d7817b61137ccd6f7027b8b74927 = L.marker(\n",
       "            [28.56367, -80.57163],\n",
       "            {\n",
       "                icon: new L.Icon.Default(),\n",
       "                }\n",
       "            ).addTo(map_1630cf8fd939346b5fb57de79b53bc6d);\n",
       "        \n",
       "    \n",
       "\n",
       "                var div_icon_2b678ba1cae981e015c2cee6c35b8dd7 = L.divIcon({\n",
       "                    iconSize: [20,20],\n",
       "                    iconAnchor: [0,0],\n",
       "                    \n",
       "                    className: &#x27;empty&#x27;,\n",
       "                    html: `&lt;div style=&quot;font-size: 12; color:#d35400;&quot;&gt;&lt;b&gt;      7.43 KM&lt;/b&gt;&lt;/div&gt;`,\n",
       "                    });\n",
       "                marker_9d00d7817b61137ccd6f7027b8b74927.setIcon(div_icon_2b678ba1cae981e015c2cee6c35b8dd7);\n",
       "            \n",
       "&lt;/script&gt;\n",
       "&lt;/html&gt;\" style=\"position:absolute;width:100%;height:100%;left:0;top:0;border:none !important;\" allowfullscreen webkitallowfullscreen mozallowfullscreen></iframe></div></div>"
      ],
      "text/plain": [
       "<folium.folium.Map at 0x1dd661463f0>"
      ]
     },
     "execution_count": 37,
     "metadata": {},
     "output_type": "execute_result"
    }
   ],
   "source": [
    "# Create and add a folium.Marker on your selected closest coastline point on the map\n",
    "# Display the distance between coastline point and launch site using the icon property\n",
    "# for example\n",
    "# distance_marker = folium.Marker(\n",
    "#    coordinate,\n",
    "#    icon=DivIcon(\n",
    "#        icon_size=(20,20),\n",
    "#        icon_anchor=(0,0),\n",
    "#        html='<div style=\"font-size: 12; color:#d35400;\"><b>%s</b></div>' % \"{:10.2f} KM\".format(distance),\n",
    "#        )\n",
    "#    )\n",
    "from folium import Marker, DivIcon\n",
    "\n",
    "# Example coordinates for the closest coastline point\n",
    "coastline_lat = 28.56367\n",
    "coastline_lon = -80.57163\n",
    "\n",
    "# Calculate distance between launch site and coastline\n",
    "distance_coastline = calculate_distance(launch_site_lat, launch_site_lon, coastline_lat, coastline_lon)\n",
    "\n",
    "# Create a Marker with a DivIcon to display the distance\n",
    "distance_marker = Marker(\n",
    "    location=[coastline_lat, coastline_lon],\n",
    "    icon=DivIcon(\n",
    "        icon_size=(20, 20),\n",
    "        icon_anchor=(0, 0),\n",
    "        html='<div style=\"font-size: 12; color:#d35400;\"><b>%s</b></div>' % \"{:10.2f} KM\".format(distance_coastline),\n",
    "    )\n",
    ")\n",
    "\n",
    "# Add the distance_marker to the map\n",
    "site_map.add_child(distance_marker)\n",
    "\n",
    "# Display the map with the added marker\n",
    "site_map\n"
   ]
  },
  {
   "cell_type": "markdown",
   "metadata": {
    "id": "uEPUEREter6n"
   },
   "source": [
    "*TODO:* Draw a `PolyLine` between a launch site to the selected coastline point\n"
   ]
  },
  {
   "cell_type": "code",
   "execution_count": 38,
   "metadata": {
    "colab": {
     "base_uri": "https://localhost:8080/",
     "height": 1000
    },
    "id": "hjSyEnGher6n",
    "outputId": "527c2c5b-02cc-4f47-a1c9-661afaa9a319"
   },
   "outputs": [
    {
     "data": {
      "text/html": [
       "<div style=\"width:100%;\"><div style=\"position:relative;width:100%;height:0;padding-bottom:60%;\"><span style=\"color:#565656\">Make this Notebook Trusted to load map: File -> Trust Notebook</span><iframe srcdoc=\"&lt;!DOCTYPE html&gt;\n",
       "&lt;html&gt;\n",
       "&lt;head&gt;\n",
       "    \n",
       "    &lt;meta http-equiv=&quot;content-type&quot; content=&quot;text/html; charset=UTF-8&quot; /&gt;\n",
       "    &lt;script&gt;L_PREFER_CANVAS=false; L_NO_TOUCH=false; L_DISABLE_3D=false;&lt;/script&gt;\n",
       "    &lt;script src=&quot;https://cdn.jsdelivr.net/npm/leaflet@1.4.0/dist/leaflet.js&quot;&gt;&lt;/script&gt;\n",
       "    &lt;script src=&quot;https://code.jquery.com/jquery-1.12.4.min.js&quot;&gt;&lt;/script&gt;\n",
       "    &lt;script src=&quot;https://maxcdn.bootstrapcdn.com/bootstrap/3.2.0/js/bootstrap.min.js&quot;&gt;&lt;/script&gt;\n",
       "    &lt;script src=&quot;https://cdnjs.cloudflare.com/ajax/libs/Leaflet.awesome-markers/2.0.2/leaflet.awesome-markers.js&quot;&gt;&lt;/script&gt;\n",
       "    &lt;link rel=&quot;stylesheet&quot; href=&quot;https://cdn.jsdelivr.net/npm/leaflet@1.4.0/dist/leaflet.css&quot;/&gt;\n",
       "    &lt;link rel=&quot;stylesheet&quot; href=&quot;https://maxcdn.bootstrapcdn.com/bootstrap/3.2.0/css/bootstrap.min.css&quot;/&gt;\n",
       "    &lt;link rel=&quot;stylesheet&quot; href=&quot;https://maxcdn.bootstrapcdn.com/bootstrap/3.2.0/css/bootstrap-theme.min.css&quot;/&gt;\n",
       "    &lt;link rel=&quot;stylesheet&quot; href=&quot;https://maxcdn.bootstrapcdn.com/font-awesome/4.6.3/css/font-awesome.min.css&quot;/&gt;\n",
       "    &lt;link rel=&quot;stylesheet&quot; href=&quot;https://cdnjs.cloudflare.com/ajax/libs/Leaflet.awesome-markers/2.0.2/leaflet.awesome-markers.css&quot;/&gt;\n",
       "    &lt;link rel=&quot;stylesheet&quot; href=&quot;https://rawcdn.githack.com/python-visualization/folium/master/folium/templates/leaflet.awesome.rotate.css&quot;/&gt;\n",
       "    &lt;style&gt;html, body {width: 100%;height: 100%;margin: 0;padding: 0;}&lt;/style&gt;\n",
       "    &lt;style&gt;#map {position:absolute;top:0;bottom:0;right:0;left:0;}&lt;/style&gt;\n",
       "    \n",
       "    &lt;meta name=&quot;viewport&quot; content=&quot;width=device-width,\n",
       "        initial-scale=1.0, maximum-scale=1.0, user-scalable=no&quot; /&gt;\n",
       "    &lt;style&gt;#map_1630cf8fd939346b5fb57de79b53bc6d {\n",
       "        position: relative;\n",
       "        width: 100.0%;\n",
       "        height: 100.0%;\n",
       "        left: 0.0%;\n",
       "        top: 0.0%;\n",
       "        }\n",
       "    &lt;/style&gt;\n",
       "    &lt;script src=&quot;https://cdnjs.cloudflare.com/ajax/libs/leaflet.markercluster/1.1.0/leaflet.markercluster.js&quot;&gt;&lt;/script&gt;\n",
       "    &lt;link rel=&quot;stylesheet&quot; href=&quot;https://cdnjs.cloudflare.com/ajax/libs/leaflet.markercluster/1.1.0/MarkerCluster.css&quot;/&gt;\n",
       "    &lt;link rel=&quot;stylesheet&quot; href=&quot;https://cdnjs.cloudflare.com/ajax/libs/leaflet.markercluster/1.1.0/MarkerCluster.Default.css&quot;/&gt;\n",
       "    &lt;script src=&quot;https://rawcdn.githack.com/ardhi/Leaflet.MousePosition/c32f1c84/src/L.Control.MousePosition.js&quot;&gt;&lt;/script&gt;\n",
       "    &lt;link rel=&quot;stylesheet&quot; href=&quot;https://rawcdn.githack.com/ardhi/Leaflet.MousePosition/c32f1c84/src/L.Control.MousePosition.css&quot;/&gt;\n",
       "    &lt;script src=&quot;https://rawcdn.githack.com/ardhi/Leaflet.MousePosition/c32f1c84/src/L.Control.MousePosition.js&quot;&gt;&lt;/script&gt;\n",
       "    &lt;link rel=&quot;stylesheet&quot; href=&quot;https://rawcdn.githack.com/ardhi/Leaflet.MousePosition/c32f1c84/src/L.Control.MousePosition.css&quot;/&gt;\n",
       "    &lt;script src=&quot;https://rawcdn.githack.com/ardhi/Leaflet.MousePosition/c32f1c84/src/L.Control.MousePosition.js&quot;&gt;&lt;/script&gt;\n",
       "    &lt;link rel=&quot;stylesheet&quot; href=&quot;https://rawcdn.githack.com/ardhi/Leaflet.MousePosition/c32f1c84/src/L.Control.MousePosition.css&quot;/&gt;\n",
       "    &lt;script src=&quot;https://rawcdn.githack.com/ardhi/Leaflet.MousePosition/c32f1c84/src/L.Control.MousePosition.js&quot;&gt;&lt;/script&gt;\n",
       "    &lt;link rel=&quot;stylesheet&quot; href=&quot;https://rawcdn.githack.com/ardhi/Leaflet.MousePosition/c32f1c84/src/L.Control.MousePosition.css&quot;/&gt;\n",
       "    &lt;script src=&quot;https://rawcdn.githack.com/ardhi/Leaflet.MousePosition/c32f1c84/src/L.Control.MousePosition.js&quot;&gt;&lt;/script&gt;\n",
       "    &lt;link rel=&quot;stylesheet&quot; href=&quot;https://rawcdn.githack.com/ardhi/Leaflet.MousePosition/c32f1c84/src/L.Control.MousePosition.css&quot;/&gt;\n",
       "    &lt;script src=&quot;https://rawcdn.githack.com/ardhi/Leaflet.MousePosition/c32f1c84/src/L.Control.MousePosition.js&quot;&gt;&lt;/script&gt;\n",
       "    &lt;link rel=&quot;stylesheet&quot; href=&quot;https://rawcdn.githack.com/ardhi/Leaflet.MousePosition/c32f1c84/src/L.Control.MousePosition.css&quot;/&gt;\n",
       "    &lt;script src=&quot;https://rawcdn.githack.com/ardhi/Leaflet.MousePosition/c32f1c84/src/L.Control.MousePosition.js&quot;&gt;&lt;/script&gt;\n",
       "    &lt;link rel=&quot;stylesheet&quot; href=&quot;https://rawcdn.githack.com/ardhi/Leaflet.MousePosition/c32f1c84/src/L.Control.MousePosition.css&quot;/&gt;\n",
       "&lt;/head&gt;\n",
       "&lt;body&gt;\n",
       "    \n",
       "    \n",
       "    &lt;div class=&quot;folium-map&quot; id=&quot;map_1630cf8fd939346b5fb57de79b53bc6d&quot; &gt;&lt;/div&gt;\n",
       "&lt;/body&gt;\n",
       "&lt;script&gt;\n",
       "    \n",
       "    \n",
       "    \n",
       "        var bounds = null;\n",
       "    \n",
       "\n",
       "    var map_1630cf8fd939346b5fb57de79b53bc6d = L.map(\n",
       "        &#x27;map_1630cf8fd939346b5fb57de79b53bc6d&#x27;, {\n",
       "        center: [29.559684888503615, -95.0830971930759],\n",
       "        zoom: 5,\n",
       "        maxBounds: bounds,\n",
       "        layers: [],\n",
       "        worldCopyJump: false,\n",
       "        crs: L.CRS.EPSG3857,\n",
       "        zoomControl: true,\n",
       "        });\n",
       "\n",
       "\n",
       "    \n",
       "    var tile_layer_4808e3305f956456eb43f23041bf4624 = L.tileLayer(\n",
       "        &#x27;https://{s}.tile.openstreetmap.org/{z}/{x}/{y}.png&#x27;,\n",
       "        {\n",
       "        &quot;attribution&quot;: null,\n",
       "        &quot;detectRetina&quot;: false,\n",
       "        &quot;maxNativeZoom&quot;: 18,\n",
       "        &quot;maxZoom&quot;: 18,\n",
       "        &quot;minZoom&quot;: 0,\n",
       "        &quot;noWrap&quot;: false,\n",
       "        &quot;opacity&quot;: 1,\n",
       "        &quot;subdomains&quot;: &quot;abc&quot;,\n",
       "        &quot;tms&quot;: false\n",
       "}).addTo(map_1630cf8fd939346b5fb57de79b53bc6d);\n",
       "    \n",
       "            var marker_cluster_a23d56cb5fc600b1b50e54f9e4500eb9 = L.markerClusterGroup({});\n",
       "            map_1630cf8fd939346b5fb57de79b53bc6d.addLayer(marker_cluster_a23d56cb5fc600b1b50e54f9e4500eb9);\n",
       "            \n",
       "    \n",
       "        var marker_0c4467bc92c983819c934b8eddd5d1bf = L.marker(\n",
       "            [29.559684888503615, -95.0830971930759],\n",
       "            {\n",
       "                icon: new L.Icon.Default(),\n",
       "                }\n",
       "            ).addTo(marker_cluster_a23d56cb5fc600b1b50e54f9e4500eb9);\n",
       "        \n",
       "    \n",
       "\n",
       "                var div_icon_0aeb40328c12261cc457456575bce390 = L.divIcon({\n",
       "                    iconSize: [20,20],\n",
       "                    iconAnchor: [0,0],\n",
       "                    \n",
       "                    className: &#x27;empty&#x27;,\n",
       "                    html: `&lt;div style=&quot;font-size: 12; color:#d35400;&quot;&gt;&lt;b&gt;NASA JSC&lt;/b&gt;&lt;/div&gt;`,\n",
       "                    });\n",
       "                marker_0c4467bc92c983819c934b8eddd5d1bf.setIcon(div_icon_0aeb40328c12261cc457456575bce390);\n",
       "            \n",
       "    \n",
       "\n",
       "        var mouse_position_71cf9bf3d6aec537547c01f18cd932c7 = new L.Control.MousePosition(\n",
       "            {\n",
       "  &quot;emptyString&quot;: &quot;NaN&quot;,\n",
       "  &quot;lngFirst&quot;: false,\n",
       "  &quot;numDigits&quot;: 20,\n",
       "  &quot;position&quot;: &quot;topright&quot;,\n",
       "  &quot;prefix&quot;: &quot;Lat:&quot;,\n",
       "  &quot;separator&quot;: &quot; Long: &quot;\n",
       "});\n",
       "        mouse_position_71cf9bf3d6aec537547c01f18cd932c7.options[&quot;latFormatter&quot;] = function(num) {return L.Util.formatNum(num, 5);};;\n",
       "        mouse_position_71cf9bf3d6aec537547c01f18cd932c7.options[&quot;lngFormatter&quot;] = function(num) {return L.Util.formatNum(num, 5);};;\n",
       "        map_1630cf8fd939346b5fb57de79b53bc6d.addControl(mouse_position_71cf9bf3d6aec537547c01f18cd932c7);\n",
       "\n",
       "        \n",
       "    \n",
       "\n",
       "        var mouse_position_477b3459012b882324d125f5a2978f60 = new L.Control.MousePosition(\n",
       "            {\n",
       "  &quot;emptyString&quot;: &quot;NaN&quot;,\n",
       "  &quot;lngFirst&quot;: false,\n",
       "  &quot;numDigits&quot;: 20,\n",
       "  &quot;position&quot;: &quot;topright&quot;,\n",
       "  &quot;prefix&quot;: &quot;Lat:&quot;,\n",
       "  &quot;separator&quot;: &quot; Long: &quot;\n",
       "});\n",
       "        mouse_position_477b3459012b882324d125f5a2978f60.options[&quot;latFormatter&quot;] = function(num) {return L.Util.formatNum(num, 5);};;\n",
       "        mouse_position_477b3459012b882324d125f5a2978f60.options[&quot;lngFormatter&quot;] = function(num) {return L.Util.formatNum(num, 5);};;\n",
       "        map_1630cf8fd939346b5fb57de79b53bc6d.addControl(mouse_position_477b3459012b882324d125f5a2978f60);\n",
       "\n",
       "        \n",
       "    \n",
       "        var marker_9d00d7817b61137ccd6f7027b8b74927 = L.marker(\n",
       "            [28.56367, -80.57163],\n",
       "            {\n",
       "                icon: new L.Icon.Default(),\n",
       "                }\n",
       "            ).addTo(map_1630cf8fd939346b5fb57de79b53bc6d);\n",
       "        \n",
       "    \n",
       "\n",
       "                var div_icon_2b678ba1cae981e015c2cee6c35b8dd7 = L.divIcon({\n",
       "                    iconSize: [20,20],\n",
       "                    iconAnchor: [0,0],\n",
       "                    \n",
       "                    className: &#x27;empty&#x27;,\n",
       "                    html: `&lt;div style=&quot;font-size: 12; color:#d35400;&quot;&gt;&lt;b&gt;      7.43 KM&lt;/b&gt;&lt;/div&gt;`,\n",
       "                    });\n",
       "                marker_9d00d7817b61137ccd6f7027b8b74927.setIcon(div_icon_2b678ba1cae981e015c2cee6c35b8dd7);\n",
       "            \n",
       "    \n",
       "                var poly_line_0606eae9feb09938a063617f50072ce0 = L.polyline(\n",
       "                    [[28.573255, -80.646895], [28.56367, -80.57163]],\n",
       "                    {\n",
       "  &quot;bubblingMouseEvents&quot;: true,\n",
       "  &quot;color&quot;: &quot;#3388ff&quot;,\n",
       "  &quot;dashArray&quot;: null,\n",
       "  &quot;dashOffset&quot;: null,\n",
       "  &quot;fill&quot;: false,\n",
       "  &quot;fillColor&quot;: &quot;#3388ff&quot;,\n",
       "  &quot;fillOpacity&quot;: 0.2,\n",
       "  &quot;fillRule&quot;: &quot;evenodd&quot;,\n",
       "  &quot;lineCap&quot;: &quot;round&quot;,\n",
       "  &quot;lineJoin&quot;: &quot;round&quot;,\n",
       "  &quot;noClip&quot;: false,\n",
       "  &quot;opacity&quot;: 1.0,\n",
       "  &quot;smoothFactor&quot;: 1.0,\n",
       "  &quot;stroke&quot;: true,\n",
       "  &quot;weight&quot;: 1\n",
       "}\n",
       "                    )\n",
       "                    .addTo(map_1630cf8fd939346b5fb57de79b53bc6d);\n",
       "            \n",
       "&lt;/script&gt;\n",
       "&lt;/html&gt;\" style=\"position:absolute;width:100%;height:100%;left:0;top:0;border:none !important;\" allowfullscreen webkitallowfullscreen mozallowfullscreen></iframe></div></div>"
      ],
      "text/plain": [
       "<folium.folium.Map at 0x1dd661463f0>"
      ]
     },
     "execution_count": 38,
     "metadata": {},
     "output_type": "execute_result"
    }
   ],
   "source": [
    "# Create a `folium.PolyLine` object using the coastline coordinates and launch site coordinate\n",
    "# lines=folium.PolyLine(locations=coordinates, weight=1)\n",
    "coordinates = [[launch_site_lat,launch_site_lon],[coastline_lat,coastline_lon]]\n",
    "lines=folium.PolyLine(locations=coordinates, weight=1)\n",
    "site_map.add_child(lines)\n",
    "\n",
    "\n",
    "\n"
   ]
  },
  {
   "cell_type": "markdown",
   "metadata": {
    "id": "lM1ea6I8er6n"
   },
   "source": [
    "Your updated map with distance line should look like the following screenshot:\n"
   ]
  },
  {
   "cell_type": "markdown",
   "metadata": {
    "id": "pg_v_emker6n"
   },
   "source": [
    "<center>\n",
    "    <img src=\"https://cf-courses-data.s3.us.cloud-object-storage.appdomain.cloud/IBM-DS0321EN-SkillsNetwork/labs/module_3/images/launch_site_marker_distance.png\">\n",
    "</center>\n"
   ]
  },
  {
   "cell_type": "markdown",
   "metadata": {
    "id": "wKtNHDwFer6n"
   },
   "source": [
    "*TODO:* Similarly, you can draw a line betwee a launch site to its closest city, railway, highway, etc. You need to use `MousePosition` to find the their coordinates on the map first\n"
   ]
  },
  {
   "cell_type": "markdown",
   "metadata": {
    "id": "zj0mvMxber6o"
   },
   "source": [
    "A railway map symbol may look like this:\n"
   ]
  },
  {
   "cell_type": "markdown",
   "metadata": {
    "id": "jbEwZMeper6o"
   },
   "source": [
    "<center>\n",
    "    <img src=\"https://cf-courses-data.s3.us.cloud-object-storage.appdomain.cloud/IBM-DS0321EN-SkillsNetwork/labs/module_3/images/railway.png\">\n",
    "</center>\n"
   ]
  },
  {
   "cell_type": "markdown",
   "metadata": {
    "id": "T8x7O5HXer6o"
   },
   "source": [
    "A highway map symbol may look like this:\n"
   ]
  },
  {
   "cell_type": "markdown",
   "metadata": {
    "id": "FN9JuDrher6o"
   },
   "source": [
    "<center>\n",
    "    <img src=\"https://cf-courses-data.s3.us.cloud-object-storage.appdomain.cloud/IBM-DS0321EN-SkillsNetwork/labs/module_3/images/highway.png\">\n",
    "</center>\n"
   ]
  },
  {
   "cell_type": "markdown",
   "metadata": {
    "id": "SyKjPtKper6o"
   },
   "source": [
    "A city map symbol may look like this:\n"
   ]
  },
  {
   "cell_type": "markdown",
   "metadata": {
    "id": "q2XdH9EXer6o"
   },
   "source": [
    "<center>\n",
    "    <img src=\"https://cf-courses-data.s3.us.cloud-object-storage.appdomain.cloud/IBM-DS0321EN-SkillsNetwork/labs/module_3/images/city.png\">\n",
    "</center>\n"
   ]
  },
  {
   "cell_type": "code",
   "execution_count": 39,
   "metadata": {
    "id": "j-D_UFOver6o"
   },
   "outputs": [],
   "source": [
    "# Create a marker with distance to a closest city, railway, highway, etc.\n",
    "# Draw a line between the marker to the launch site\n",
    "\n",
    "\n",
    "closest_highway = 28.56335, -80.57085\n",
    "closest_railroad = 28.57206, -80.58525\n",
    "closest_city = 28.10473, -80.64531\n"
   ]
  },
  {
   "cell_type": "code",
   "execution_count": 40,
   "metadata": {
    "colab": {
     "base_uri": "https://localhost:8080/"
    },
    "id": "jrnNwgPXer6p",
    "outputId": "eff52963-3fbc-44e0-cefa-e3106ab8760f"
   },
   "outputs": [
    {
     "name": "stdout",
     "output_type": "stream",
     "text": [
      "distance_highway = 7.5075307963356135  km\n",
      "distance_railroad = 6.021263458244089  km\n",
      "distance_city = 52.0978339429101  km\n"
     ]
    }
   ],
   "source": [
    "distance_highway = calculate_distance(launch_site_lat, launch_site_lon, closest_highway[0], closest_highway[1])\n",
    "print('distance_highway =',distance_highway, ' km')\n",
    "distance_railroad = calculate_distance(launch_site_lat, launch_site_lon, closest_railroad[0], closest_railroad[1])\n",
    "print('distance_railroad =',distance_railroad, ' km')\n",
    "distance_city = calculate_distance(launch_site_lat, launch_site_lon, closest_city[0], closest_city[1])\n",
    "print('distance_city =',distance_city, ' km')"
   ]
  },
  {
   "cell_type": "code",
   "execution_count": 41,
   "metadata": {
    "colab": {
     "base_uri": "https://localhost:8080/",
     "height": 1000
    },
    "id": "b2SsKc6ner6p",
    "outputId": "91d3e60f-93c4-4279-b48c-5278186288d4"
   },
   "outputs": [
    {
     "data": {
      "text/html": [
       "<div style=\"width:100%;\"><div style=\"position:relative;width:100%;height:0;padding-bottom:60%;\"><span style=\"color:#565656\">Make this Notebook Trusted to load map: File -> Trust Notebook</span><iframe srcdoc=\"&lt;!DOCTYPE html&gt;\n",
       "&lt;html&gt;\n",
       "&lt;head&gt;\n",
       "    \n",
       "    &lt;meta http-equiv=&quot;content-type&quot; content=&quot;text/html; charset=UTF-8&quot; /&gt;\n",
       "    &lt;script&gt;L_PREFER_CANVAS=false; L_NO_TOUCH=false; L_DISABLE_3D=false;&lt;/script&gt;\n",
       "    &lt;script src=&quot;https://cdn.jsdelivr.net/npm/leaflet@1.4.0/dist/leaflet.js&quot;&gt;&lt;/script&gt;\n",
       "    &lt;script src=&quot;https://code.jquery.com/jquery-1.12.4.min.js&quot;&gt;&lt;/script&gt;\n",
       "    &lt;script src=&quot;https://maxcdn.bootstrapcdn.com/bootstrap/3.2.0/js/bootstrap.min.js&quot;&gt;&lt;/script&gt;\n",
       "    &lt;script src=&quot;https://cdnjs.cloudflare.com/ajax/libs/Leaflet.awesome-markers/2.0.2/leaflet.awesome-markers.js&quot;&gt;&lt;/script&gt;\n",
       "    &lt;link rel=&quot;stylesheet&quot; href=&quot;https://cdn.jsdelivr.net/npm/leaflet@1.4.0/dist/leaflet.css&quot;/&gt;\n",
       "    &lt;link rel=&quot;stylesheet&quot; href=&quot;https://maxcdn.bootstrapcdn.com/bootstrap/3.2.0/css/bootstrap.min.css&quot;/&gt;\n",
       "    &lt;link rel=&quot;stylesheet&quot; href=&quot;https://maxcdn.bootstrapcdn.com/bootstrap/3.2.0/css/bootstrap-theme.min.css&quot;/&gt;\n",
       "    &lt;link rel=&quot;stylesheet&quot; href=&quot;https://maxcdn.bootstrapcdn.com/font-awesome/4.6.3/css/font-awesome.min.css&quot;/&gt;\n",
       "    &lt;link rel=&quot;stylesheet&quot; href=&quot;https://cdnjs.cloudflare.com/ajax/libs/Leaflet.awesome-markers/2.0.2/leaflet.awesome-markers.css&quot;/&gt;\n",
       "    &lt;link rel=&quot;stylesheet&quot; href=&quot;https://rawcdn.githack.com/python-visualization/folium/master/folium/templates/leaflet.awesome.rotate.css&quot;/&gt;\n",
       "    &lt;style&gt;html, body {width: 100%;height: 100%;margin: 0;padding: 0;}&lt;/style&gt;\n",
       "    &lt;style&gt;#map {position:absolute;top:0;bottom:0;right:0;left:0;}&lt;/style&gt;\n",
       "    \n",
       "    &lt;meta name=&quot;viewport&quot; content=&quot;width=device-width,\n",
       "        initial-scale=1.0, maximum-scale=1.0, user-scalable=no&quot; /&gt;\n",
       "    &lt;style&gt;#map_1630cf8fd939346b5fb57de79b53bc6d {\n",
       "        position: relative;\n",
       "        width: 100.0%;\n",
       "        height: 100.0%;\n",
       "        left: 0.0%;\n",
       "        top: 0.0%;\n",
       "        }\n",
       "    &lt;/style&gt;\n",
       "    &lt;script src=&quot;https://cdnjs.cloudflare.com/ajax/libs/leaflet.markercluster/1.1.0/leaflet.markercluster.js&quot;&gt;&lt;/script&gt;\n",
       "    &lt;link rel=&quot;stylesheet&quot; href=&quot;https://cdnjs.cloudflare.com/ajax/libs/leaflet.markercluster/1.1.0/MarkerCluster.css&quot;/&gt;\n",
       "    &lt;link rel=&quot;stylesheet&quot; href=&quot;https://cdnjs.cloudflare.com/ajax/libs/leaflet.markercluster/1.1.0/MarkerCluster.Default.css&quot;/&gt;\n",
       "    &lt;script src=&quot;https://rawcdn.githack.com/ardhi/Leaflet.MousePosition/c32f1c84/src/L.Control.MousePosition.js&quot;&gt;&lt;/script&gt;\n",
       "    &lt;link rel=&quot;stylesheet&quot; href=&quot;https://rawcdn.githack.com/ardhi/Leaflet.MousePosition/c32f1c84/src/L.Control.MousePosition.css&quot;/&gt;\n",
       "    &lt;script src=&quot;https://rawcdn.githack.com/ardhi/Leaflet.MousePosition/c32f1c84/src/L.Control.MousePosition.js&quot;&gt;&lt;/script&gt;\n",
       "    &lt;link rel=&quot;stylesheet&quot; href=&quot;https://rawcdn.githack.com/ardhi/Leaflet.MousePosition/c32f1c84/src/L.Control.MousePosition.css&quot;/&gt;\n",
       "    &lt;script src=&quot;https://rawcdn.githack.com/ardhi/Leaflet.MousePosition/c32f1c84/src/L.Control.MousePosition.js&quot;&gt;&lt;/script&gt;\n",
       "    &lt;link rel=&quot;stylesheet&quot; href=&quot;https://rawcdn.githack.com/ardhi/Leaflet.MousePosition/c32f1c84/src/L.Control.MousePosition.css&quot;/&gt;\n",
       "    &lt;script src=&quot;https://rawcdn.githack.com/ardhi/Leaflet.MousePosition/c32f1c84/src/L.Control.MousePosition.js&quot;&gt;&lt;/script&gt;\n",
       "    &lt;link rel=&quot;stylesheet&quot; href=&quot;https://rawcdn.githack.com/ardhi/Leaflet.MousePosition/c32f1c84/src/L.Control.MousePosition.css&quot;/&gt;\n",
       "    &lt;script src=&quot;https://rawcdn.githack.com/ardhi/Leaflet.MousePosition/c32f1c84/src/L.Control.MousePosition.js&quot;&gt;&lt;/script&gt;\n",
       "    &lt;link rel=&quot;stylesheet&quot; href=&quot;https://rawcdn.githack.com/ardhi/Leaflet.MousePosition/c32f1c84/src/L.Control.MousePosition.css&quot;/&gt;\n",
       "    &lt;script src=&quot;https://rawcdn.githack.com/ardhi/Leaflet.MousePosition/c32f1c84/src/L.Control.MousePosition.js&quot;&gt;&lt;/script&gt;\n",
       "    &lt;link rel=&quot;stylesheet&quot; href=&quot;https://rawcdn.githack.com/ardhi/Leaflet.MousePosition/c32f1c84/src/L.Control.MousePosition.css&quot;/&gt;\n",
       "    &lt;script src=&quot;https://rawcdn.githack.com/ardhi/Leaflet.MousePosition/c32f1c84/src/L.Control.MousePosition.js&quot;&gt;&lt;/script&gt;\n",
       "    &lt;link rel=&quot;stylesheet&quot; href=&quot;https://rawcdn.githack.com/ardhi/Leaflet.MousePosition/c32f1c84/src/L.Control.MousePosition.css&quot;/&gt;\n",
       "    &lt;script src=&quot;https://rawcdn.githack.com/ardhi/Leaflet.MousePosition/c32f1c84/src/L.Control.MousePosition.js&quot;&gt;&lt;/script&gt;\n",
       "    &lt;link rel=&quot;stylesheet&quot; href=&quot;https://rawcdn.githack.com/ardhi/Leaflet.MousePosition/c32f1c84/src/L.Control.MousePosition.css&quot;/&gt;\n",
       "    &lt;script src=&quot;https://rawcdn.githack.com/ardhi/Leaflet.MousePosition/c32f1c84/src/L.Control.MousePosition.js&quot;&gt;&lt;/script&gt;\n",
       "    &lt;link rel=&quot;stylesheet&quot; href=&quot;https://rawcdn.githack.com/ardhi/Leaflet.MousePosition/c32f1c84/src/L.Control.MousePosition.css&quot;/&gt;\n",
       "&lt;/head&gt;\n",
       "&lt;body&gt;\n",
       "    \n",
       "    \n",
       "    &lt;div class=&quot;folium-map&quot; id=&quot;map_1630cf8fd939346b5fb57de79b53bc6d&quot; &gt;&lt;/div&gt;\n",
       "&lt;/body&gt;\n",
       "&lt;script&gt;\n",
       "    \n",
       "    \n",
       "    \n",
       "        var bounds = null;\n",
       "    \n",
       "\n",
       "    var map_1630cf8fd939346b5fb57de79b53bc6d = L.map(\n",
       "        &#x27;map_1630cf8fd939346b5fb57de79b53bc6d&#x27;, {\n",
       "        center: [29.559684888503615, -95.0830971930759],\n",
       "        zoom: 5,\n",
       "        maxBounds: bounds,\n",
       "        layers: [],\n",
       "        worldCopyJump: false,\n",
       "        crs: L.CRS.EPSG3857,\n",
       "        zoomControl: true,\n",
       "        });\n",
       "\n",
       "\n",
       "    \n",
       "    var tile_layer_4808e3305f956456eb43f23041bf4624 = L.tileLayer(\n",
       "        &#x27;https://{s}.tile.openstreetmap.org/{z}/{x}/{y}.png&#x27;,\n",
       "        {\n",
       "        &quot;attribution&quot;: null,\n",
       "        &quot;detectRetina&quot;: false,\n",
       "        &quot;maxNativeZoom&quot;: 18,\n",
       "        &quot;maxZoom&quot;: 18,\n",
       "        &quot;minZoom&quot;: 0,\n",
       "        &quot;noWrap&quot;: false,\n",
       "        &quot;opacity&quot;: 1,\n",
       "        &quot;subdomains&quot;: &quot;abc&quot;,\n",
       "        &quot;tms&quot;: false\n",
       "}).addTo(map_1630cf8fd939346b5fb57de79b53bc6d);\n",
       "    \n",
       "            var marker_cluster_a23d56cb5fc600b1b50e54f9e4500eb9 = L.markerClusterGroup({});\n",
       "            map_1630cf8fd939346b5fb57de79b53bc6d.addLayer(marker_cluster_a23d56cb5fc600b1b50e54f9e4500eb9);\n",
       "            \n",
       "    \n",
       "        var marker_0c4467bc92c983819c934b8eddd5d1bf = L.marker(\n",
       "            [29.559684888503615, -95.0830971930759],\n",
       "            {\n",
       "                icon: new L.Icon.Default(),\n",
       "                }\n",
       "            ).addTo(marker_cluster_a23d56cb5fc600b1b50e54f9e4500eb9);\n",
       "        \n",
       "    \n",
       "\n",
       "                var div_icon_0aeb40328c12261cc457456575bce390 = L.divIcon({\n",
       "                    iconSize: [20,20],\n",
       "                    iconAnchor: [0,0],\n",
       "                    \n",
       "                    className: &#x27;empty&#x27;,\n",
       "                    html: `&lt;div style=&quot;font-size: 12; color:#d35400;&quot;&gt;&lt;b&gt;NASA JSC&lt;/b&gt;&lt;/div&gt;`,\n",
       "                    });\n",
       "                marker_0c4467bc92c983819c934b8eddd5d1bf.setIcon(div_icon_0aeb40328c12261cc457456575bce390);\n",
       "            \n",
       "    \n",
       "\n",
       "        var mouse_position_71cf9bf3d6aec537547c01f18cd932c7 = new L.Control.MousePosition(\n",
       "            {\n",
       "  &quot;emptyString&quot;: &quot;NaN&quot;,\n",
       "  &quot;lngFirst&quot;: false,\n",
       "  &quot;numDigits&quot;: 20,\n",
       "  &quot;position&quot;: &quot;topright&quot;,\n",
       "  &quot;prefix&quot;: &quot;Lat:&quot;,\n",
       "  &quot;separator&quot;: &quot; Long: &quot;\n",
       "});\n",
       "        mouse_position_71cf9bf3d6aec537547c01f18cd932c7.options[&quot;latFormatter&quot;] = function(num) {return L.Util.formatNum(num, 5);};;\n",
       "        mouse_position_71cf9bf3d6aec537547c01f18cd932c7.options[&quot;lngFormatter&quot;] = function(num) {return L.Util.formatNum(num, 5);};;\n",
       "        map_1630cf8fd939346b5fb57de79b53bc6d.addControl(mouse_position_71cf9bf3d6aec537547c01f18cd932c7);\n",
       "\n",
       "        \n",
       "    \n",
       "\n",
       "        var mouse_position_477b3459012b882324d125f5a2978f60 = new L.Control.MousePosition(\n",
       "            {\n",
       "  &quot;emptyString&quot;: &quot;NaN&quot;,\n",
       "  &quot;lngFirst&quot;: false,\n",
       "  &quot;numDigits&quot;: 20,\n",
       "  &quot;position&quot;: &quot;topright&quot;,\n",
       "  &quot;prefix&quot;: &quot;Lat:&quot;,\n",
       "  &quot;separator&quot;: &quot; Long: &quot;\n",
       "});\n",
       "        mouse_position_477b3459012b882324d125f5a2978f60.options[&quot;latFormatter&quot;] = function(num) {return L.Util.formatNum(num, 5);};;\n",
       "        mouse_position_477b3459012b882324d125f5a2978f60.options[&quot;lngFormatter&quot;] = function(num) {return L.Util.formatNum(num, 5);};;\n",
       "        map_1630cf8fd939346b5fb57de79b53bc6d.addControl(mouse_position_477b3459012b882324d125f5a2978f60);\n",
       "\n",
       "        \n",
       "    \n",
       "        var marker_9d00d7817b61137ccd6f7027b8b74927 = L.marker(\n",
       "            [28.56367, -80.57163],\n",
       "            {\n",
       "                icon: new L.Icon.Default(),\n",
       "                }\n",
       "            ).addTo(map_1630cf8fd939346b5fb57de79b53bc6d);\n",
       "        \n",
       "    \n",
       "\n",
       "                var div_icon_2b678ba1cae981e015c2cee6c35b8dd7 = L.divIcon({\n",
       "                    iconSize: [20,20],\n",
       "                    iconAnchor: [0,0],\n",
       "                    \n",
       "                    className: &#x27;empty&#x27;,\n",
       "                    html: `&lt;div style=&quot;font-size: 12; color:#d35400;&quot;&gt;&lt;b&gt;      7.43 KM&lt;/b&gt;&lt;/div&gt;`,\n",
       "                    });\n",
       "                marker_9d00d7817b61137ccd6f7027b8b74927.setIcon(div_icon_2b678ba1cae981e015c2cee6c35b8dd7);\n",
       "            \n",
       "    \n",
       "                var poly_line_0606eae9feb09938a063617f50072ce0 = L.polyline(\n",
       "                    [[28.573255, -80.646895], [28.56367, -80.57163]],\n",
       "                    {\n",
       "  &quot;bubblingMouseEvents&quot;: true,\n",
       "  &quot;color&quot;: &quot;#3388ff&quot;,\n",
       "  &quot;dashArray&quot;: null,\n",
       "  &quot;dashOffset&quot;: null,\n",
       "  &quot;fill&quot;: false,\n",
       "  &quot;fillColor&quot;: &quot;#3388ff&quot;,\n",
       "  &quot;fillOpacity&quot;: 0.2,\n",
       "  &quot;fillRule&quot;: &quot;evenodd&quot;,\n",
       "  &quot;lineCap&quot;: &quot;round&quot;,\n",
       "  &quot;lineJoin&quot;: &quot;round&quot;,\n",
       "  &quot;noClip&quot;: false,\n",
       "  &quot;opacity&quot;: 1.0,\n",
       "  &quot;smoothFactor&quot;: 1.0,\n",
       "  &quot;stroke&quot;: true,\n",
       "  &quot;weight&quot;: 1\n",
       "}\n",
       "                    )\n",
       "                    .addTo(map_1630cf8fd939346b5fb57de79b53bc6d);\n",
       "            \n",
       "    \n",
       "        var marker_4ceba30aa67b1a60ac6d4f3dc85ecd24 = L.marker(\n",
       "            [28.56335, -80.57085],\n",
       "            {\n",
       "                icon: new L.Icon.Default(),\n",
       "                }\n",
       "            ).addTo(map_1630cf8fd939346b5fb57de79b53bc6d);\n",
       "        \n",
       "    \n",
       "\n",
       "                var div_icon_6252019ad57458d17789ba06dd7978c9 = L.divIcon({\n",
       "                    iconSize: [20,20],\n",
       "                    iconAnchor: [0,0],\n",
       "                    \n",
       "                    className: &#x27;empty&#x27;,\n",
       "                    html: `&lt;div style=&quot;font-size: 12; color:#d35400;&quot;&gt;&lt;b&gt;      7.51 KM&lt;/b&gt;&lt;/div&gt;`,\n",
       "                    });\n",
       "                marker_4ceba30aa67b1a60ac6d4f3dc85ecd24.setIcon(div_icon_6252019ad57458d17789ba06dd7978c9);\n",
       "            \n",
       "    \n",
       "                var poly_line_c1844b903d02ac28f9b65d0321a16bec = L.polyline(\n",
       "                    [[28.573255, -80.646895], [28.56335, -80.57085]],\n",
       "                    {\n",
       "  &quot;bubblingMouseEvents&quot;: true,\n",
       "  &quot;color&quot;: &quot;#3388ff&quot;,\n",
       "  &quot;dashArray&quot;: null,\n",
       "  &quot;dashOffset&quot;: null,\n",
       "  &quot;fill&quot;: false,\n",
       "  &quot;fillColor&quot;: &quot;#3388ff&quot;,\n",
       "  &quot;fillOpacity&quot;: 0.2,\n",
       "  &quot;fillRule&quot;: &quot;evenodd&quot;,\n",
       "  &quot;lineCap&quot;: &quot;round&quot;,\n",
       "  &quot;lineJoin&quot;: &quot;round&quot;,\n",
       "  &quot;noClip&quot;: false,\n",
       "  &quot;opacity&quot;: 1.0,\n",
       "  &quot;smoothFactor&quot;: 1.0,\n",
       "  &quot;stroke&quot;: true,\n",
       "  &quot;weight&quot;: 1\n",
       "}\n",
       "                    )\n",
       "                    .addTo(map_1630cf8fd939346b5fb57de79b53bc6d);\n",
       "            \n",
       "    \n",
       "        var marker_67785ad046366a0eb71277f177ee715c = L.marker(\n",
       "            [28.57206, -80.58525],\n",
       "            {\n",
       "                icon: new L.Icon.Default(),\n",
       "                }\n",
       "            ).addTo(map_1630cf8fd939346b5fb57de79b53bc6d);\n",
       "        \n",
       "    \n",
       "\n",
       "                var div_icon_90648e7dd0a9a6bccb3d7ae2e46f1663 = L.divIcon({\n",
       "                    iconSize: [20,20],\n",
       "                    iconAnchor: [0,0],\n",
       "                    \n",
       "                    className: &#x27;empty&#x27;,\n",
       "                    html: `&lt;div style=&quot;font-size: 12; color:#d35400;&quot;&gt;&lt;b&gt;      6.02 KM&lt;/b&gt;&lt;/div&gt;`,\n",
       "                    });\n",
       "                marker_67785ad046366a0eb71277f177ee715c.setIcon(div_icon_90648e7dd0a9a6bccb3d7ae2e46f1663);\n",
       "            \n",
       "    \n",
       "                var poly_line_87df68cfa9ca2e233e33ffbeae799e23 = L.polyline(\n",
       "                    [[28.573255, -80.646895], [28.57206, -80.58525]],\n",
       "                    {\n",
       "  &quot;bubblingMouseEvents&quot;: true,\n",
       "  &quot;color&quot;: &quot;#3388ff&quot;,\n",
       "  &quot;dashArray&quot;: null,\n",
       "  &quot;dashOffset&quot;: null,\n",
       "  &quot;fill&quot;: false,\n",
       "  &quot;fillColor&quot;: &quot;#3388ff&quot;,\n",
       "  &quot;fillOpacity&quot;: 0.2,\n",
       "  &quot;fillRule&quot;: &quot;evenodd&quot;,\n",
       "  &quot;lineCap&quot;: &quot;round&quot;,\n",
       "  &quot;lineJoin&quot;: &quot;round&quot;,\n",
       "  &quot;noClip&quot;: false,\n",
       "  &quot;opacity&quot;: 1.0,\n",
       "  &quot;smoothFactor&quot;: 1.0,\n",
       "  &quot;stroke&quot;: true,\n",
       "  &quot;weight&quot;: 1\n",
       "}\n",
       "                    )\n",
       "                    .addTo(map_1630cf8fd939346b5fb57de79b53bc6d);\n",
       "            \n",
       "    \n",
       "        var marker_38dd5e4ee833312e07d5fa208a08e221 = L.marker(\n",
       "            [28.10473, -80.64531],\n",
       "            {\n",
       "                icon: new L.Icon.Default(),\n",
       "                }\n",
       "            ).addTo(map_1630cf8fd939346b5fb57de79b53bc6d);\n",
       "        \n",
       "    \n",
       "\n",
       "                var div_icon_c1daf40a5844d842fb2a01b9e9c470eb = L.divIcon({\n",
       "                    iconSize: [20,20],\n",
       "                    iconAnchor: [0,0],\n",
       "                    \n",
       "                    className: &#x27;empty&#x27;,\n",
       "                    html: `&lt;div style=&quot;font-size: 12; color:#d35400;&quot;&gt;&lt;b&gt;     52.10 KM&lt;/b&gt;&lt;/div&gt;`,\n",
       "                    });\n",
       "                marker_38dd5e4ee833312e07d5fa208a08e221.setIcon(div_icon_c1daf40a5844d842fb2a01b9e9c470eb);\n",
       "            \n",
       "    \n",
       "                var poly_line_0c056bf299a0f9fd91f9ba9068a69770 = L.polyline(\n",
       "                    [[28.573255, -80.646895], [28.10473, -80.64531]],\n",
       "                    {\n",
       "  &quot;bubblingMouseEvents&quot;: true,\n",
       "  &quot;color&quot;: &quot;#3388ff&quot;,\n",
       "  &quot;dashArray&quot;: null,\n",
       "  &quot;dashOffset&quot;: null,\n",
       "  &quot;fill&quot;: false,\n",
       "  &quot;fillColor&quot;: &quot;#3388ff&quot;,\n",
       "  &quot;fillOpacity&quot;: 0.2,\n",
       "  &quot;fillRule&quot;: &quot;evenodd&quot;,\n",
       "  &quot;lineCap&quot;: &quot;round&quot;,\n",
       "  &quot;lineJoin&quot;: &quot;round&quot;,\n",
       "  &quot;noClip&quot;: false,\n",
       "  &quot;opacity&quot;: 1.0,\n",
       "  &quot;smoothFactor&quot;: 1.0,\n",
       "  &quot;stroke&quot;: true,\n",
       "  &quot;weight&quot;: 1\n",
       "}\n",
       "                    )\n",
       "                    .addTo(map_1630cf8fd939346b5fb57de79b53bc6d);\n",
       "            \n",
       "&lt;/script&gt;\n",
       "&lt;/html&gt;\" style=\"position:absolute;width:100%;height:100%;left:0;top:0;border:none !important;\" allowfullscreen webkitallowfullscreen mozallowfullscreen></iframe></div></div>"
      ],
      "text/plain": [
       "<folium.folium.Map at 0x1dd661463f0>"
      ]
     },
     "execution_count": 41,
     "metadata": {},
     "output_type": "execute_result"
    }
   ],
   "source": [
    "# closest highway marker\n",
    "distance_marker = folium.Marker(\n",
    "   closest_highway,\n",
    "   icon=DivIcon(\n",
    "       icon_size=(20,20),\n",
    "       icon_anchor=(0,0),\n",
    "       html='<div style=\"font-size: 12; color:#d35400;\"><b>%s</b></div>' % \"{:10.2f} KM\".format(distance_highway),\n",
    "       )\n",
    "   )\n",
    "site_map.add_child(distance_marker)\n",
    "# closest highway line\n",
    "coordinates = [[launch_site_lat,launch_site_lon],closest_highway]\n",
    "lines=folium.PolyLine(locations=coordinates, weight=1)\n",
    "site_map.add_child(lines)\n",
    "\n",
    "# closest railroad marker\n",
    "distance_marker = folium.Marker(\n",
    "   closest_railroad,\n",
    "   icon=DivIcon(\n",
    "       icon_size=(20,20),\n",
    "       icon_anchor=(0,0),\n",
    "       html='<div style=\"font-size: 12; color:#d35400;\"><b>%s</b></div>' % \"{:10.2f} KM\".format(distance_railroad),\n",
    "       )\n",
    "   )\n",
    "site_map.add_child(distance_marker)\n",
    "# closest railroad line\n",
    "coordinates = [[launch_site_lat,launch_site_lon],closest_railroad]\n",
    "lines=folium.PolyLine(locations=coordinates, weight=1)\n",
    "site_map.add_child(lines)\n",
    "\n",
    "# closest city marker\n",
    "distance_marker = folium.Marker(\n",
    "   closest_city,\n",
    "   icon=DivIcon(\n",
    "       icon_size=(20,20),\n",
    "       icon_anchor=(0,0),\n",
    "       html='<div style=\"font-size: 12; color:#d35400;\"><b>%s</b></div>' % \"{:10.2f} KM\".format(distance_city),\n",
    "       )\n",
    "   )\n",
    "site_map.add_child(distance_marker)\n",
    "# closest city line\n",
    "coordinates = [[launch_site_lat,launch_site_lon],closest_city]\n",
    "lines=folium.PolyLine(locations=coordinates, weight=1)\n",
    "site_map.add_child(lines)"
   ]
  },
  {
   "cell_type": "markdown",
   "metadata": {
    "id": "4DtcctMuer6p"
   },
   "source": [
    "After you plot distance lines to the proximities, you can answer the following questions easily:\n",
    "\n",
    "*   Are launch sites in close proximity to railways?\n",
    "*   Are launch sites in close proximity to highways?\n",
    "*   Are launch sites in close proximity to coastline?\n",
    "*   Do launch sites keep certain distance away from cities?\n",
    "\n",
    "Also please try to explain your findings.\n"
   ]
  },
  {
   "cell_type": "markdown",
   "metadata": {
    "id": "tegRSD6Jer6p"
   },
   "source": [
    "# Next Steps:\n",
    "\n",
    "Now you have discovered many interesting insights related to the launch sites' location using folium, in a very interactive way. Next, you will need to build a dashboard using Ploty Dash on detailed launch records.\n"
   ]
  },
  {
   "cell_type": "markdown",
   "metadata": {
    "id": "uSuG0GOper6p"
   },
   "source": [
    "## Authors\n"
   ]
  },
  {
   "cell_type": "markdown",
   "metadata": {
    "id": "xxREUAuRer6p"
   },
   "source": [
    "[Pratiksha Verma](https://www.linkedin.com/in/pratiksha-verma-6487561b1/?utm_medium=Exinfluencer&utm_source=Exinfluencer&utm_content=000026UJ&utm_term=10006555&utm_id=NA-SkillsNetwork-Channel-SkillsNetworkCoursesIBMDS0321ENSkillsNetwork865-2022-01-01)\n"
   ]
  },
  {
   "cell_type": "markdown",
   "metadata": {
    "id": "lKI_4hdmer6p"
   },
   "source": [
    "## Change Log\n"
   ]
  },
  {
   "cell_type": "markdown",
   "metadata": {
    "id": "I_riKtuKer6q"
   },
   "source": [
    "| Date (YYYY-MM-DD) | Version | Changed By      | Change Description      |\n",
    "| ----------------- | ------- | -------------   | ----------------------- |\n",
    "| 2022-11-09        | 1.0     | Pratiksha Verma | Converted initial version to Jupyterlite|\n"
   ]
  },
  {
   "cell_type": "markdown",
   "metadata": {
    "id": "oy-KrWRSer6q"
   },
   "source": [
    "### <h3 align=\"center\"> IBM Corporation 2022. All rights reserved. <h3/>\n"
   ]
  }
 ],
 "metadata": {
  "colab": {
   "provenance": []
  },
  "kernelspec": {
   "display_name": "Python 3 (ipykernel)",
   "language": "python",
   "name": "python3"
  },
  "language_info": {
   "codemirror_mode": {
    "name": "ipython",
    "version": 3
   },
   "file_extension": ".py",
   "mimetype": "text/x-python",
   "name": "python",
   "nbconvert_exporter": "python",
   "pygments_lexer": "ipython3",
   "version": "3.12.3"
  }
 },
 "nbformat": 4,
 "nbformat_minor": 4
}
